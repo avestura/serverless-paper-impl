{
 "cells": [
  {
   "cell_type": "markdown",
   "metadata": {},
   "source": [
    "# Serverless\n",
    "\n",
    "- Name: Aryan Ebrahimpour\n",
    "- ID: 98726942"
   ]
  },
  {
   "cell_type": "code",
   "execution_count": null,
   "metadata": {
    "dotnet_interactive": {
     "language": "fsharp"
    }
   },
   "outputs": [
    {
     "data": {
      "text/html": [
       "<div><div></div><div></div><div><strong>Installed Packages</strong><ul><li><span>FSharp.Data, 4.2.7</span></li><li><span>MathNet.Numerics, 4.15.0</span></li><li><span>MathNet.Numerics.FSharp, 4.15.0</span></li><li><span>NodaTime, 3.0.9</span></li><li><span>Plotly.NET, 2.0.0-preview.16</span></li><li><span>Plotly.NET.Interactive, 2.0.0-preview.14</span></li></ul></div></div>"
      ]
     },
     "metadata": {},
     "output_type": "display_data"
    },
    {
     "data": {
      "text/markdown": [
       "Loading extensions from `Plotly.NET.Interactive.dll`"
      ]
     },
     "metadata": {},
     "output_type": "display_data"
    }
   ],
   "source": [
    "#r \"nuget: Plotly.NET, 2.0.0-preview.16\"\n",
    "#r \"nuget: Plotly.NET.Interactive, 2.0.0-preview.14\"\n",
    "#r \"nuget: FSharp.Data\"\n",
    "#r \"nuget: NodaTime\"\n",
    "#r \"nuget: MathNet.Numerics\"\n",
    "#r \"nuget: MathNet.Numerics.FSharp\"\n",
    "\n",
    "open System\n",
    "open Plotly.NET\n",
    "open Plotly.NET.Interactive\n",
    "open NodaTime\n",
    "open System.Text.Json\n",
    "open System.Text.Json.Serialization"
   ]
  },
  {
   "cell_type": "code",
   "execution_count": null,
   "metadata": {
    "dotnet_interactive": {
     "language": "fsharp"
    }
   },
   "outputs": [],
   "source": [
    "#load \"Serverless.fsx\"\n",
    "open Avestura.Serverless\n",
    "open MathNet.Numerics.Distributions"
   ]
  },
  {
   "cell_type": "code",
   "execution_count": null,
   "metadata": {
    "dotnet_interactive": {
     "language": "fsharp"
    }
   },
   "outputs": [
    {
     "name": "stdout",
     "output_type": "stream",
     "text": [
      "before coop\r\n",
      "coop from 2->1\r\n",
      "coop from 1->1\r\n",
      "coop from 3->1\r\n",
      "after coop\r\n",
      "before coop\r\n",
      "coop from 2->1\r\n",
      "coop from 1->1\r\n",
      "coop from 3->1\r\n",
      "coop from 0->1\r\n",
      "after coop\r\n",
      "before coop\r\n",
      "coop from 2->1\r\n",
      "coop from 1->1\r\n",
      "coop from 3->1\r\n",
      "coop from 0->1\r\n",
      "after coop\r\n",
      "before coop\r\n",
      "coop from 2->2\r\n",
      "coop from 3->2\r\n",
      "coop from 1->2\r\n",
      "coop from 0->2\r\n",
      "after coop\r\n",
      "before coop\r\n",
      "coop from 2->2\r\n",
      "coop from 3->2\r\n",
      "coop from 0->2\r\n",
      "after coop\r\n",
      "before coop\r\n",
      "coop from 3->1\r\n",
      "coop from 2->1\r\n",
      "coop from 0->1\r\n",
      "after coop\r\n",
      "before coop\r\n",
      "coop from 3->2\r\n",
      "coop from 2->2\r\n",
      "coop from 0->2\r\n",
      "after coop\r\n",
      "before coop\r\n",
      "coop from 3->3\r\n",
      "coop from 2->3\r\n",
      "coop from 0->3\r\n",
      "after coop\r\n",
      "before coop\r\n",
      "coop from 3->0\r\n",
      "coop from 2->0\r\n",
      "coop from 0->0\r\n",
      "after coop\r\n",
      "before coop\r\n",
      "coop from 3->3\r\n",
      "coop from 2->3\r\n",
      "coop from 0->3\r\n",
      "coop from 1->3\r\n",
      "after coop\r\n",
      "before coop\r\n",
      "coop from 3->3\r\n",
      "coop from 2->3\r\n",
      "coop from 0->3\r\n",
      "coop from 1->3\r\n",
      "after coop\r\n",
      "before coop\r\n",
      "coop from 3->3\r\n",
      "coop from 2->3\r\n",
      "coop from 0->3\r\n",
      "coop from 1->3\r\n",
      "after coop\r\n",
      "before coop\r\n",
      "coop from 3->2\r\n",
      "coop from 0->2\r\n",
      "coop from 1->2\r\n",
      "coop from 2->2\r\n",
      "after coop\r\n",
      "before coop\r\n",
      "coop from 0->3\r\n",
      "coop from 3->3\r\n",
      "coop from 1->3\r\n",
      "coop from 2->3\r\n",
      "after coop\r\n",
      "before coop\r\n",
      "coop from 0->3\r\n",
      "coop from 1->3\r\n",
      "coop from 2->3\r\n",
      "coop from 3->3\r\n",
      "after coop\r\n",
      "before coop\r\n",
      "coop from 0->1\r\n",
      "coop from 1->1\r\n",
      "coop from 2->1\r\n",
      "coop from 3->1\r\n",
      "after coop\r\n",
      "before coop\r\n",
      "coop from 0->3\r\n",
      "coop from 1->3\r\n",
      "coop from 2->3\r\n",
      "coop from 3->3\r\n",
      "after coop\r\n",
      "before coop\r\n",
      "coop from 1->0\r\n",
      "coop from 2->0\r\n",
      "coop from 3->0\r\n",
      "after coop\r\n",
      "before coop\r\n",
      "coop from 1->2\r\n",
      "coop from 3->2\r\n",
      "coop from 2->2\r\n",
      "after coop\r\n",
      "before coop\r\n",
      "coop from 3->1\r\n",
      "coop from 2->1\r\n",
      "coop from 1->1\r\n",
      "after coop\r\n",
      "before coop\r\n",
      "coop from 2->3\r\n",
      "coop from 1->3\r\n",
      "coop from 3->3\r\n",
      "after coop\r\n",
      "before coop\r\n",
      "coop from 2->3\r\n",
      "coop from 1->3\r\n",
      "coop from 3->3\r\n",
      "after coop\r\n",
      "before coop\r\n",
      "coop from 2->2\r\n",
      "coop from 1->2\r\n",
      "coop from 3->2\r\n",
      "after coop\r\n",
      "before coop\r\n",
      "coop from 2->1\r\n"
     ]
    }
   ],
   "source": [
    "open SimulationRunnerEngine\n",
    "open EvaluatorConfigs\n",
    "open AllSchedulers\n",
    "\n",
    "let queue = genQueue config_UFD_AW_N 4u\n",
    "let results = runSim queue (dynamicContextScheduler)"
   ]
  },
  {
   "cell_type": "code",
   "execution_count": null,
   "metadata": {
    "dotnet_interactive": {
     "language": "fsharp"
    }
   },
   "outputs": [],
   "source": [
    "results |> SimulatorContext.getQoSMeassuresList"
   ]
  },
  {
   "cell_type": "code",
   "execution_count": null,
   "metadata": {
    "dotnet_interactive": {
     "language": "fsharp"
    }
   },
   "outputs": [
    {
     "data": {
      "text/html": [
       "<div id=\"ec9d236f-9497-4df2-a3ef-915eecd34f38\"><!-- Plotly chart will be drawn inside this DIV --></div>\r\n",
       "<script type=\"text/javascript\">\r\n",
       "\r\n",
       "            var renderPlotly_ec9d236f94974df2a3ef915eecd34f38 = function() {\r\n",
       "            var fsharpPlotlyRequire = requirejs.config({context:'fsharp-plotly',paths:{plotly:'https://cdn.plot.ly/plotly-2.6.3.min'}}) || require;\r\n",
       "            fsharpPlotlyRequire(['plotly'], function(Plotly) {\r\n",
       "\r\n",
       "            var data = [{\"type\":\"scatter\",\"mode\":\"lines\",\"x\":[0.0,1.0,2.0,3.0,4.0,5.0,6.0,7.0,8.0,9.0,10.0,11.0,12.0,13.0,14.0,15.0,16.0,17.0,18.0,19.0,20.0],\"y\":[0.0,0.03921056084767682,0.14785621103378865,0.302323673928969,0.47270757595695145,0.6321205588285577,0.7630722413178782,0.8591415790789549,0.9226952595567003,0.9608361049010129,0.9816843611112658,0.9920929459484066,0.9968488884015556,0.9988407708260955,0.9996063309593449,0.9998765901959134,0.9999642871503583,0.9999904598371269,0.9999976474248,0.9999994644652197,0.9999998874648253],\"marker\":{},\"line\":{}}];\r\n",
       "            var layout = {\"width\":600,\"height\":600,\"template\":{\"layout\":{\"title\":{\"x\":0.05},\"font\":{\"color\":\"rgba(42, 63, 95, 1.0)\"},\"paper_bgcolor\":\"rgba(255, 255, 255, 1.0)\",\"plot_bgcolor\":\"rgba(229, 236, 246, 1.0)\",\"autotypenumbers\":\"strict\",\"colorscale\":{\"diverging\":[[0.0,\"#8e0152\"],[0.1,\"#c51b7d\"],[0.2,\"#de77ae\"],[0.3,\"#f1b6da\"],[0.4,\"#fde0ef\"],[0.5,\"#f7f7f7\"],[0.6,\"#e6f5d0\"],[0.7,\"#b8e186\"],[0.8,\"#7fbc41\"],[0.9,\"#4d9221\"],[1.0,\"#276419\"]],\"sequential\":[[0.0,\"#0d0887\"],[0.1111111111111111,\"#46039f\"],[0.2222222222222222,\"#7201a8\"],[0.3333333333333333,\"#9c179e\"],[0.4444444444444444,\"#bd3786\"],[0.5555555555555556,\"#d8576b\"],[0.6666666666666666,\"#ed7953\"],[0.7777777777777778,\"#fb9f3a\"],[0.8888888888888888,\"#fdca26\"],[1.0,\"#f0f921\"]],\"sequentialminus\":[[0.0,\"#0d0887\"],[0.1111111111111111,\"#46039f\"],[0.2222222222222222,\"#7201a8\"],[0.3333333333333333,\"#9c179e\"],[0.4444444444444444,\"#bd3786\"],[0.5555555555555556,\"#d8576b\"],[0.6666666666666666,\"#ed7953\"],[0.7777777777777778,\"#fb9f3a\"],[0.8888888888888888,\"#fdca26\"],[1.0,\"#f0f921\"]]},\"hovermode\":\"closest\",\"hoverlabel\":{\"align\":\"left\"},\"coloraxis\":{\"colorbar\":{\"outlinewidth\":0.0,\"ticks\":\"\"}},\"geo\":{\"showland\":true,\"landcolor\":\"rgba(229, 236, 246, 1.0)\",\"showlakes\":true,\"lakecolor\":\"rgba(255, 255, 255, 1.0)\",\"subunitcolor\":\"rgba(255, 255, 255, 1.0)\",\"bgcolor\":\"rgba(255, 255, 255, 1.0)\"},\"mapbox\":{\"style\":\"light\"},\"polar\":{\"bgcolor\":\"rgba(229, 236, 246, 1.0)\",\"radialaxis\":{\"linecolor\":\"rgba(255, 255, 255, 1.0)\",\"gridcolor\":\"rgba(255, 255, 255, 1.0)\",\"ticks\":\"\"},\"angularaxis\":{\"linecolor\":\"rgba(255, 255, 255, 1.0)\",\"gridcolor\":\"rgba(255, 255, 255, 1.0)\",\"ticks\":\"\"}},\"scene\":{\"xaxis\":{\"ticks\":\"\",\"linecolor\":\"rgba(255, 255, 255, 1.0)\",\"gridcolor\":\"rgba(255, 255, 255, 1.0)\",\"gridwidth\":2.0,\"zerolinecolor\":\"rgba(255, 255, 255, 1.0)\",\"backgroundcolor\":\"rgba(229, 236, 246, 1.0)\",\"showbackground\":true},\"yaxis\":{\"ticks\":\"\",\"linecolor\":\"rgba(255, 255, 255, 1.0)\",\"gridcolor\":\"rgba(255, 255, 255, 1.0)\",\"gridwidth\":2.0,\"zerolinecolor\":\"rgba(255, 255, 255, 1.0)\",\"backgroundcolor\":\"rgba(229, 236, 246, 1.0)\",\"showbackground\":true},\"zaxis\":{\"ticks\":\"\",\"linecolor\":\"rgba(255, 255, 255, 1.0)\",\"gridcolor\":\"rgba(255, 255, 255, 1.0)\",\"gridwidth\":2.0,\"zerolinecolor\":\"rgba(255, 255, 255, 1.0)\",\"backgroundcolor\":\"rgba(229, 236, 246, 1.0)\",\"showbackground\":true}},\"ternary\":{\"aaxis\":{\"ticks\":\"\",\"linecolor\":\"rgba(255, 255, 255, 1.0)\",\"gridcolor\":\"rgba(255, 255, 255, 1.0)\"},\"baxis\":{\"ticks\":\"\",\"linecolor\":\"rgba(255, 255, 255, 1.0)\",\"gridcolor\":\"rgba(255, 255, 255, 1.0)\"},\"caxis\":{\"ticks\":\"\",\"linecolor\":\"rgba(255, 255, 255, 1.0)\",\"gridcolor\":\"rgba(255, 255, 255, 1.0)\"},\"bgcolor\":\"rgba(229, 236, 246, 1.0)\"},\"xaxis\":{\"title\":{\"standoff\":15},\"ticks\":\"\",\"automargin\":true,\"linecolor\":\"rgba(255, 255, 255, 1.0)\",\"gridcolor\":\"rgba(255, 255, 255, 1.0)\",\"zerolinecolor\":\"rgba(255, 255, 255, 1.0)\",\"zerolinewidth\":2.0},\"yaxis\":{\"title\":{\"standoff\":15},\"ticks\":\"\",\"automargin\":true,\"linecolor\":\"rgba(255, 255, 255, 1.0)\",\"gridcolor\":\"rgba(255, 255, 255, 1.0)\",\"zerolinecolor\":\"rgba(255, 255, 255, 1.0)\",\"zerolinewidth\":2.0},\"annotationdefaults\":{\"arrowcolor\":\"#2a3f5f\",\"arrowhead\":0,\"arrowwidth\":1},\"shapedefaults\":{\"line\":{\"color\":\"rgba(42, 63, 95, 1.0)\"}},\"colorway\":[\"rgba(99, 110, 250, 1.0)\",\"rgba(239, 85, 59, 1.0)\",\"rgba(0, 204, 150, 1.0)\",\"rgba(171, 99, 250, 1.0)\",\"rgba(255, 161, 90, 1.0)\",\"rgba(25, 211, 243, 1.0)\",\"rgba(255, 102, 146, 1.0)\",\"rgba(182, 232, 128, 1.0)\",\"rgba(255, 151, 255, 1.0)\",\"rgba(254, 203, 82, 1.0)\"]},\"data\":{\"bar\":[{\"marker\":{\"line\":{\"color\":\"rgba(229, 236, 246, 1.0)\",\"width\":0.5},\"pattern\":{\"fillmode\":\"overlay\",\"size\":10,\"solidity\":0.2}},\"errorx\":{\"color\":\"rgba(42, 63, 95, 1.0)\"},\"errory\":{\"color\":\"rgba(42, 63, 95, 1.0)\"}}],\"barpolar\":[{\"marker\":{\"line\":{\"color\":\"rgba(229, 236, 246, 1.0)\",\"width\":0.5},\"pattern\":{\"fillmode\":\"overlay\",\"size\":10,\"solidity\":0.2}}}],\"carpet\":[{\"aaxis\":{\"linecolor\":\"rgba(255, 255, 255, 1.0)\",\"gridcolor\":\"rgba(255, 255, 255, 1.0)\",\"endlinecolor\":\"rgba(42, 63, 95, 1.0)\",\"minorgridcolor\":\"rgba(255, 255, 255, 1.0)\",\"startlinecolor\":\"rgba(42, 63, 95, 1.0)\"},\"baxis\":{\"linecolor\":\"rgba(255, 255, 255, 1.0)\",\"gridcolor\":\"rgba(255, 255, 255, 1.0)\",\"endlinecolor\":\"rgba(42, 63, 95, 1.0)\",\"minorgridcolor\":\"rgba(255, 255, 255, 1.0)\",\"startlinecolor\":\"rgba(42, 63, 95, 1.0)\"}}],\"choropleth\":[{\"colorbar\":{\"outlinewidth\":0.0,\"ticks\":\"\"},\"colorscale\":[[0.0,\"#0d0887\"],[0.1111111111111111,\"#46039f\"],[0.2222222222222222,\"#7201a8\"],[0.3333333333333333,\"#9c179e\"],[0.4444444444444444,\"#bd3786\"],[0.5555555555555556,\"#d8576b\"],[0.6666666666666666,\"#ed7953\"],[0.7777777777777778,\"#fb9f3a\"],[0.8888888888888888,\"#fdca26\"],[1.0,\"#f0f921\"]]}],\"contour\":[{\"colorbar\":{\"outlinewidth\":0.0,\"ticks\":\"\"},\"colorscale\":[[0.0,\"#0d0887\"],[0.1111111111111111,\"#46039f\"],[0.2222222222222222,\"#7201a8\"],[0.3333333333333333,\"#9c179e\"],[0.4444444444444444,\"#bd3786\"],[0.5555555555555556,\"#d8576b\"],[0.6666666666666666,\"#ed7953\"],[0.7777777777777778,\"#fb9f3a\"],[0.8888888888888888,\"#fdca26\"],[1.0,\"#f0f921\"]]}],\"contourcarpet\":[{\"colorbar\":{\"outlinewidth\":0.0,\"ticks\":\"\"}}],\"heatmap\":[{\"colorbar\":{\"outlinewidth\":0.0,\"ticks\":\"\"},\"colorscale\":[[0.0,\"#0d0887\"],[0.1111111111111111,\"#46039f\"],[0.2222222222222222,\"#7201a8\"],[0.3333333333333333,\"#9c179e\"],[0.4444444444444444,\"#bd3786\"],[0.5555555555555556,\"#d8576b\"],[0.6666666666666666,\"#ed7953\"],[0.7777777777777778,\"#fb9f3a\"],[0.8888888888888888,\"#fdca26\"],[1.0,\"#f0f921\"]]}],\"heatmapgl\":[{\"colorbar\":{\"outlinewidth\":0.0,\"ticks\":\"\"},\"colorscale\":[[0.0,\"#0d0887\"],[0.1111111111111111,\"#46039f\"],[0.2222222222222222,\"#7201a8\"],[0.3333333333333333,\"#9c179e\"],[0.4444444444444444,\"#bd3786\"],[0.5555555555555556,\"#d8576b\"],[0.6666666666666666,\"#ed7953\"],[0.7777777777777778,\"#fb9f3a\"],[0.8888888888888888,\"#fdca26\"],[1.0,\"#f0f921\"]]}],\"histogram\":[{\"marker\":{\"pattern\":{\"fillmode\":\"overlay\",\"size\":10,\"solidity\":0.2}}}],\"histogram2d\":[{\"colorbar\":{\"outlinewidth\":0.0,\"ticks\":\"\"},\"colorscale\":[[0.0,\"#0d0887\"],[0.1111111111111111,\"#46039f\"],[0.2222222222222222,\"#7201a8\"],[0.3333333333333333,\"#9c179e\"],[0.4444444444444444,\"#bd3786\"],[0.5555555555555556,\"#d8576b\"],[0.6666666666666666,\"#ed7953\"],[0.7777777777777778,\"#fb9f3a\"],[0.8888888888888888,\"#fdca26\"],[1.0,\"#f0f921\"]]}],\"histogram2dcontour\":[{\"colorbar\":{\"outlinewidth\":0.0,\"ticks\":\"\"},\"colorscale\":[[0.0,\"#0d0887\"],[0.1111111111111111,\"#46039f\"],[0.2222222222222222,\"#7201a8\"],[0.3333333333333333,\"#9c179e\"],[0.4444444444444444,\"#bd3786\"],[0.5555555555555556,\"#d8576b\"],[0.6666666666666666,\"#ed7953\"],[0.7777777777777778,\"#fb9f3a\"],[0.8888888888888888,\"#fdca26\"],[1.0,\"#f0f921\"]]}],\"mesh3d\":[{\"colorbar\":{\"outlinewidth\":0.0,\"ticks\":\"\"}}],\"parcoords\":[{\"line\":{\"colorbar\":{\"outlinewidth\":0.0,\"ticks\":\"\"}}}],\"pie\":[{\"automargin\":true}],\"scatter\":[{\"marker\":{\"colorbar\":{\"outlinewidth\":0.0,\"ticks\":\"\"}}}],\"scatter3d\":[{\"marker\":{\"colorbar\":{\"outlinewidth\":0.0,\"ticks\":\"\"}},\"line\":{\"colorbar\":{\"outlinewidth\":0.0,\"ticks\":\"\"}}}],\"scattercarpet\":[{\"marker\":{\"colorbar\":{\"outlinewidth\":0.0,\"ticks\":\"\"}}}],\"scattergeo\":[{\"marker\":{\"colorbar\":{\"outlinewidth\":0.0,\"ticks\":\"\"}}}],\"scattergl\":[{\"marker\":{\"colorbar\":{\"outlinewidth\":0.0,\"ticks\":\"\"}}}],\"scattermapbox\":[{\"marker\":{\"colorbar\":{\"outlinewidth\":0.0,\"ticks\":\"\"}}}],\"scatterpolar\":[{\"marker\":{\"colorbar\":{\"outlinewidth\":0.0,\"ticks\":\"\"}}}],\"scatterpolargl\":[{\"marker\":{\"colorbar\":{\"outlinewidth\":0.0,\"ticks\":\"\"}}}],\"scatterternary\":[{\"marker\":{\"colorbar\":{\"outlinewidth\":0.0,\"ticks\":\"\"}}}],\"surface\":[{\"colorbar\":{\"outlinewidth\":0.0,\"ticks\":\"\"},\"colorscale\":[[0.0,\"#0d0887\"],[0.1111111111111111,\"#46039f\"],[0.2222222222222222,\"#7201a8\"],[0.3333333333333333,\"#9c179e\"],[0.4444444444444444,\"#bd3786\"],[0.5555555555555556,\"#d8576b\"],[0.6666666666666666,\"#ed7953\"],[0.7777777777777778,\"#fb9f3a\"],[0.8888888888888888,\"#fdca26\"],[1.0,\"#f0f921\"]]}],\"table\":[{\"cells\":{\"fill\":{\"color\":\"rgba(235, 240, 248, 1.0)\"},\"line\":{\"color\":\"rgba(255, 255, 255, 1.0)\"}},\"header\":{\"fill\":{\"color\":\"rgba(200, 212, 227, 1.0)\"},\"line\":{\"color\":\"rgba(255, 255, 255, 1.0)\"}}}]}}};\r\n",
       "            var config = {\"responsive\":true};\r\n",
       "            Plotly.newPlot('ec9d236f-9497-4df2-a3ef-915eecd34f38', data, layout, config);\r\n",
       "});\r\n",
       "            };\r\n",
       "            if ((typeof(requirejs) !==  typeof(Function)) || (typeof(requirejs.config) !== typeof(Function))) {\r\n",
       "                var script = document.createElement(\"script\");\r\n",
       "                script.setAttribute(\"src\", \"https://cdnjs.cloudflare.com/ajax/libs/require.js/2.3.6/require.min.js\");\r\n",
       "                script.onload = function(){\r\n",
       "                    renderPlotly_ec9d236f94974df2a3ef915eecd34f38();\r\n",
       "                };\r\n",
       "                document.getElementsByTagName(\"head\")[0].appendChild(script);\r\n",
       "            }\r\n",
       "            else {\r\n",
       "                renderPlotly_ec9d236f94974df2a3ef915eecd34f38();\r\n",
       "            }\r\n",
       "</script>\r\n"
      ]
     },
     "metadata": {},
     "output_type": "display_data"
    }
   ],
   "source": [
    "// Visualization of the General.normalize\n",
    "// function using Weilbul Stretched Function\n",
    "\n",
    "[ for x in 0. .. 20 -> (x, General.normalize x) ]\n",
    "|> Chart.Line"
   ]
  },
  {
   "cell_type": "code",
   "execution_count": null,
   "metadata": {
    "dotnet_interactive": {
     "language": "fsharp"
    }
   },
   "outputs": [
    {
     "name": "stdout",
     "output_type": "stream",
     "text": [
      "--------------\r\n",
      "|  975 | 0 | 0 | 0 | 95 | 730 | 745 | 857 | 256 | 0 | 0 | 535 | 657 | 498 | 780 | 897 | 0 | 0 | 0 | 615 |\n",
      "--------------\r\n",
      "|  0 | 0 | 109 | 145 | 0 | 344 | 0 | 0 | 0 | 0 | 148 | 0 | 263 | 541 | 0 | 224 | 0 | 490 | 437 | 791 |\n",
      "--------------\r\n",
      "|  0 | 472 | 0 | 259 | 0 | 310 | 0 | 0 | 0 | 0 | 916 | 157 | 222 | 0 | 535 | 21 | 0 | 810 | 257 | 0 |\n",
      "--------------\r\n",
      "|  0 | 0 | 456 | 939 | 0 | 895 | 731 | 677 | 49 | 953 | 0 | 0 | 0 | 0 | 521 | 0 | 0 | 0 | 0 | 603 |\n",
      "--------------\r\n",
      "|  0 | 44 | 879 | 690 | 922 | 0 | 0 | 523 | 103 | 911 | 0 | 691 | 0 | 0 | 0 | 414 | 420 | 0 | 0 | 0 |\n",
      "--------------\r\n",
      "|  274 | 223 | 0 | 82 | 0 | 0 | 551 | 0 | 0 | 896 | 0 | 624 | 274 | 0 | 794 | 0 | 0 | 0 | 0 | 774 |\n",
      "--------------\r\n",
      "|  578 | 867 | 0 | 920 | 0 | 653 | 0 | 0 | 0 | 0 | 615 | 930 | 0 | 136 | 793 | 324 | 0 | 196 | 0 | 885 |\n",
      "--------------\r\n",
      "|  0 | 753 | 0 | 987 | 0 | 393 | 548 | 184 | 0 | 0 | 591 | 116 | 0 | 767 | 0 | 0 | 0 | 0 | 372 | 0 |\n",
      "--------------\r\n",
      "|  340 | 264 | 0 | 0 | 20 | 2 | 249 | 39 | 353 | 71 | 0 | 101 | 0 | 0 | 0 | 466 | 0 | 58 | 9 | 0 |\n",
      "--------------\r\n",
      "|  0 | 887 | 0 | 610 | 314 | 0 | 471 | 0 | 0 | 0 | 0 | 0 | 0 | 0 | 776 | 748 | 130 | 0 | 166 | 0 |\n",
      "--------------\r\n",
      "|  407 | 0 | 817 | 833 | 667 | 983 | 0 | 735 | 0 | 0 | 208 | 182 | 0 | 40 | 647 | 0 | 0 | 0 | 841 | 508 |\n",
      "--------------\r\n",
      "|  811 | 0 | 956 | 878 | 0 | 143 | 728 | 0 | 0 | 0 | 0 | 0 | 177 | 0 | 0 | 0 | 914 | 566 | 0 | 0 |\n",
      "--------------\r\n",
      "|  456 | 0 | 150 | 97 | 417 | 636 | 0 | 357 | 0 | 0 | 0 | 0 | 0 | 0 | 842 | 143 | 238 | 618 | 0 | 523 |\n",
      "--------------\r\n",
      "|  908 | 0 | 0 | 0 | 614 | 0 | 0 | 0 | 930 | 462 | 339 | 0 | 885 | 0 | 0 | 588 | 0 | 0 | 0 | 486 |\n",
      "--------------\r\n",
      "|  298 | 244 | 350 | 0 | 913 | 961 | 0 | 817 | 0 | 813 | 0 | 317 | 967 | 256 | 669 | 259 | 151 | 0 | 0 | 564 |\n",
      "--------------\r\n",
      "|  597 | 0 | 795 | 674 | 317 | 0 | 658 | 270 | 0 | 0 | 0 | 0 | 0 | 0 | 351 | 0 | 0 | 0 | 0 | 629 |\n",
      "--------------\r\n",
      "|  992 | 0 | 514 | 0 | 0 | 717 | 736 | 0 | 0 | 574 | 0 | 686 | 0 | 895 | 0 | 452 | 0 | 0 | 605 | 0 |\n",
      "--------------\r\n",
      "|  239 | 0 | 663 | 0 | 0 | 743 | 0 | 724 | 0 | 0 | 868 | 0 | 577 | 298 | 219 | 0 | 0 | 567 | 0 | 416 |\n",
      "--------------\r\n",
      "|  0 | 0 | 898 | 0 | 583 | 501 | 0 | 733 | 62 | 936 | 0 | 523 | 0 | 449 | 556 | 0 | 0 | 0 | 769 | 0 |\n",
      "--------------\r\n",
      "|  0 | 292 | 258 | 0 | 0 | 378 | 0 | 467 | 0 | 0 | 219 | 653 | 0 | 0 | 0 | 0 | 0 | 436 | 291 | 847 |\n",
      "--------------\r\n"
     ]
    },
    {
     "data": {
      "text/html": [
       "<table><thead><tr><th>Item1</th><th>Item2</th><th>Item3</th></tr></thead><tbody><tr><td><div class=\"dni-plaintext\">[ 0, 4, 8, 5 ]</div></td><td><div class=\"dni-plaintext\">[ 95, 103, 2 ]</div></td><td><div class=\"dni-plaintext\">200</div></td></tr></tbody></table>"
      ]
     },
     "metadata": {},
     "output_type": "display_data"
    }
   ],
   "source": [
    "// Dijestra path finding\n",
    "\n",
    "let dg = DependencyGraph.init (20u)\n",
    "\n",
    "//GraphExtensions.printAdjMatrix (dg.adjMatrix)\n",
    "\n",
    "let path, distance = dg |> DependencyGraph.dijkestraPath (0u) (5u)\n",
    "let weights = dg |> DependencyGraph.edgeWeightsFromPath path\n",
    "\n",
    "path, weights, distance\n"
   ]
  },
  {
   "cell_type": "code",
   "execution_count": null,
   "metadata": {
    "dotnet_interactive": {
     "language": "fsharp"
    }
   },
   "outputs": [],
   "source": [
    "// fsevents\n",
    "// hiredis\n",
    "// karma-phantomjs-launcher\n",
    "// phantomjs-prebuilt\n",
    "// puppeteer\n",
    "// serialport\n",
    "// xml2json\n",
    "// yeoman-environment\n",
    "// let dd_impossible = [\n",
    "//     \"fsevents\"\n",
    "//     \"hiredis\"\n",
    "//     \"karma-phantomjs-launcher\"\n",
    "//     \"phantomjs-prebuilt\"\n",
    "//     \"puppeteer\"\n",
    "//     \"serialport\"\n",
    "//     \"xml2json\"\n",
    "//     \"yeoman-environment\"\n",
    "// ]\n",
    "// let dd_1 = PackagesData.dependentUpon.Keys |> List.ofSeq |> List.skipWhile(fun x -> x <> \"yeoman-generator\")\n",
    "// PackagesData.downloadAndSaveAllPackageSizes dd_impossible\n",
    "\n",
    "//dd_1.[1]"
   ]
  },
  {
   "cell_type": "code",
   "execution_count": null,
   "metadata": {
    "dotnet_interactive": {
     "language": "fsharp"
    }
   },
   "outputs": [
    {
     "data": {
      "text/html": [
       "<div id=\"b699316d-1d9a-4077-87cd-d39aa80d2ee3\"><!-- Plotly chart will be drawn inside this DIV --></div>\r\n",
       "<script type=\"text/javascript\">\r\n",
       "\r\n",
       "            var renderPlotly_b699316d1d9a407787cdd39aa80d2ee3 = function() {\r\n",
       "            var fsharpPlotlyRequire = requirejs.config({context:'fsharp-plotly',paths:{plotly:'https://cdn.plot.ly/plotly-2.6.3.min'}}) || require;\r\n",
       "            fsharpPlotlyRequire(['plotly'], function(Plotly) {\r\n",
       "\r\n",
       "            var data = [{\"type\":\"scatter\",\"mode\":\"lines\",\"x\":[0,1,2,3,4,5,6,7,8,9,10,11,12,13,14,15,16,17,18,19,20,21,22,23],\"y\":[60,50,30,20,10,8,18,30,53,55,60,75,65,80,73,81,70,61,63,69,61,59,55,59],\"marker\":{},\"line\":{}}];\r\n",
       "            var layout = {\"width\":600,\"height\":600,\"template\":{\"layout\":{\"title\":{\"x\":0.05},\"font\":{\"color\":\"rgba(42, 63, 95, 1.0)\"},\"paper_bgcolor\":\"rgba(255, 255, 255, 1.0)\",\"plot_bgcolor\":\"rgba(229, 236, 246, 1.0)\",\"autotypenumbers\":\"strict\",\"colorscale\":{\"diverging\":[[0.0,\"#8e0152\"],[0.1,\"#c51b7d\"],[0.2,\"#de77ae\"],[0.3,\"#f1b6da\"],[0.4,\"#fde0ef\"],[0.5,\"#f7f7f7\"],[0.6,\"#e6f5d0\"],[0.7,\"#b8e186\"],[0.8,\"#7fbc41\"],[0.9,\"#4d9221\"],[1.0,\"#276419\"]],\"sequential\":[[0.0,\"#0d0887\"],[0.1111111111111111,\"#46039f\"],[0.2222222222222222,\"#7201a8\"],[0.3333333333333333,\"#9c179e\"],[0.4444444444444444,\"#bd3786\"],[0.5555555555555556,\"#d8576b\"],[0.6666666666666666,\"#ed7953\"],[0.7777777777777778,\"#fb9f3a\"],[0.8888888888888888,\"#fdca26\"],[1.0,\"#f0f921\"]],\"sequentialminus\":[[0.0,\"#0d0887\"],[0.1111111111111111,\"#46039f\"],[0.2222222222222222,\"#7201a8\"],[0.3333333333333333,\"#9c179e\"],[0.4444444444444444,\"#bd3786\"],[0.5555555555555556,\"#d8576b\"],[0.6666666666666666,\"#ed7953\"],[0.7777777777777778,\"#fb9f3a\"],[0.8888888888888888,\"#fdca26\"],[1.0,\"#f0f921\"]]},\"hovermode\":\"closest\",\"hoverlabel\":{\"align\":\"left\"},\"coloraxis\":{\"colorbar\":{\"outlinewidth\":0.0,\"ticks\":\"\"}},\"geo\":{\"showland\":true,\"landcolor\":\"rgba(229, 236, 246, 1.0)\",\"showlakes\":true,\"lakecolor\":\"rgba(255, 255, 255, 1.0)\",\"subunitcolor\":\"rgba(255, 255, 255, 1.0)\",\"bgcolor\":\"rgba(255, 255, 255, 1.0)\"},\"mapbox\":{\"style\":\"light\"},\"polar\":{\"bgcolor\":\"rgba(229, 236, 246, 1.0)\",\"radialaxis\":{\"linecolor\":\"rgba(255, 255, 255, 1.0)\",\"gridcolor\":\"rgba(255, 255, 255, 1.0)\",\"ticks\":\"\"},\"angularaxis\":{\"linecolor\":\"rgba(255, 255, 255, 1.0)\",\"gridcolor\":\"rgba(255, 255, 255, 1.0)\",\"ticks\":\"\"}},\"scene\":{\"xaxis\":{\"ticks\":\"\",\"linecolor\":\"rgba(255, 255, 255, 1.0)\",\"gridcolor\":\"rgba(255, 255, 255, 1.0)\",\"gridwidth\":2.0,\"zerolinecolor\":\"rgba(255, 255, 255, 1.0)\",\"backgroundcolor\":\"rgba(229, 236, 246, 1.0)\",\"showbackground\":true},\"yaxis\":{\"ticks\":\"\",\"linecolor\":\"rgba(255, 255, 255, 1.0)\",\"gridcolor\":\"rgba(255, 255, 255, 1.0)\",\"gridwidth\":2.0,\"zerolinecolor\":\"rgba(255, 255, 255, 1.0)\",\"backgroundcolor\":\"rgba(229, 236, 246, 1.0)\",\"showbackground\":true},\"zaxis\":{\"ticks\":\"\",\"linecolor\":\"rgba(255, 255, 255, 1.0)\",\"gridcolor\":\"rgba(255, 255, 255, 1.0)\",\"gridwidth\":2.0,\"zerolinecolor\":\"rgba(255, 255, 255, 1.0)\",\"backgroundcolor\":\"rgba(229, 236, 246, 1.0)\",\"showbackground\":true}},\"ternary\":{\"aaxis\":{\"ticks\":\"\",\"linecolor\":\"rgba(255, 255, 255, 1.0)\",\"gridcolor\":\"rgba(255, 255, 255, 1.0)\"},\"baxis\":{\"ticks\":\"\",\"linecolor\":\"rgba(255, 255, 255, 1.0)\",\"gridcolor\":\"rgba(255, 255, 255, 1.0)\"},\"caxis\":{\"ticks\":\"\",\"linecolor\":\"rgba(255, 255, 255, 1.0)\",\"gridcolor\":\"rgba(255, 255, 255, 1.0)\"},\"bgcolor\":\"rgba(229, 236, 246, 1.0)\"},\"xaxis\":{\"title\":{\"standoff\":15},\"ticks\":\"\",\"automargin\":true,\"linecolor\":\"rgba(255, 255, 255, 1.0)\",\"gridcolor\":\"rgba(255, 255, 255, 1.0)\",\"zerolinecolor\":\"rgba(255, 255, 255, 1.0)\",\"zerolinewidth\":2.0},\"yaxis\":{\"title\":{\"standoff\":15},\"ticks\":\"\",\"automargin\":true,\"linecolor\":\"rgba(255, 255, 255, 1.0)\",\"gridcolor\":\"rgba(255, 255, 255, 1.0)\",\"zerolinecolor\":\"rgba(255, 255, 255, 1.0)\",\"zerolinewidth\":2.0},\"annotationdefaults\":{\"arrowcolor\":\"#2a3f5f\",\"arrowhead\":0,\"arrowwidth\":1},\"shapedefaults\":{\"line\":{\"color\":\"rgba(42, 63, 95, 1.0)\"}},\"colorway\":[\"rgba(99, 110, 250, 1.0)\",\"rgba(239, 85, 59, 1.0)\",\"rgba(0, 204, 150, 1.0)\",\"rgba(171, 99, 250, 1.0)\",\"rgba(255, 161, 90, 1.0)\",\"rgba(25, 211, 243, 1.0)\",\"rgba(255, 102, 146, 1.0)\",\"rgba(182, 232, 128, 1.0)\",\"rgba(255, 151, 255, 1.0)\",\"rgba(254, 203, 82, 1.0)\"]},\"data\":{\"bar\":[{\"marker\":{\"line\":{\"color\":\"rgba(229, 236, 246, 1.0)\",\"width\":0.5},\"pattern\":{\"fillmode\":\"overlay\",\"size\":10,\"solidity\":0.2}},\"errorx\":{\"color\":\"rgba(42, 63, 95, 1.0)\"},\"errory\":{\"color\":\"rgba(42, 63, 95, 1.0)\"}}],\"barpolar\":[{\"marker\":{\"line\":{\"color\":\"rgba(229, 236, 246, 1.0)\",\"width\":0.5},\"pattern\":{\"fillmode\":\"overlay\",\"size\":10,\"solidity\":0.2}}}],\"carpet\":[{\"aaxis\":{\"linecolor\":\"rgba(255, 255, 255, 1.0)\",\"gridcolor\":\"rgba(255, 255, 255, 1.0)\",\"endlinecolor\":\"rgba(42, 63, 95, 1.0)\",\"minorgridcolor\":\"rgba(255, 255, 255, 1.0)\",\"startlinecolor\":\"rgba(42, 63, 95, 1.0)\"},\"baxis\":{\"linecolor\":\"rgba(255, 255, 255, 1.0)\",\"gridcolor\":\"rgba(255, 255, 255, 1.0)\",\"endlinecolor\":\"rgba(42, 63, 95, 1.0)\",\"minorgridcolor\":\"rgba(255, 255, 255, 1.0)\",\"startlinecolor\":\"rgba(42, 63, 95, 1.0)\"}}],\"choropleth\":[{\"colorbar\":{\"outlinewidth\":0.0,\"ticks\":\"\"},\"colorscale\":[[0.0,\"#0d0887\"],[0.1111111111111111,\"#46039f\"],[0.2222222222222222,\"#7201a8\"],[0.3333333333333333,\"#9c179e\"],[0.4444444444444444,\"#bd3786\"],[0.5555555555555556,\"#d8576b\"],[0.6666666666666666,\"#ed7953\"],[0.7777777777777778,\"#fb9f3a\"],[0.8888888888888888,\"#fdca26\"],[1.0,\"#f0f921\"]]}],\"contour\":[{\"colorbar\":{\"outlinewidth\":0.0,\"ticks\":\"\"},\"colorscale\":[[0.0,\"#0d0887\"],[0.1111111111111111,\"#46039f\"],[0.2222222222222222,\"#7201a8\"],[0.3333333333333333,\"#9c179e\"],[0.4444444444444444,\"#bd3786\"],[0.5555555555555556,\"#d8576b\"],[0.6666666666666666,\"#ed7953\"],[0.7777777777777778,\"#fb9f3a\"],[0.8888888888888888,\"#fdca26\"],[1.0,\"#f0f921\"]]}],\"contourcarpet\":[{\"colorbar\":{\"outlinewidth\":0.0,\"ticks\":\"\"}}],\"heatmap\":[{\"colorbar\":{\"outlinewidth\":0.0,\"ticks\":\"\"},\"colorscale\":[[0.0,\"#0d0887\"],[0.1111111111111111,\"#46039f\"],[0.2222222222222222,\"#7201a8\"],[0.3333333333333333,\"#9c179e\"],[0.4444444444444444,\"#bd3786\"],[0.5555555555555556,\"#d8576b\"],[0.6666666666666666,\"#ed7953\"],[0.7777777777777778,\"#fb9f3a\"],[0.8888888888888888,\"#fdca26\"],[1.0,\"#f0f921\"]]}],\"heatmapgl\":[{\"colorbar\":{\"outlinewidth\":0.0,\"ticks\":\"\"},\"colorscale\":[[0.0,\"#0d0887\"],[0.1111111111111111,\"#46039f\"],[0.2222222222222222,\"#7201a8\"],[0.3333333333333333,\"#9c179e\"],[0.4444444444444444,\"#bd3786\"],[0.5555555555555556,\"#d8576b\"],[0.6666666666666666,\"#ed7953\"],[0.7777777777777778,\"#fb9f3a\"],[0.8888888888888888,\"#fdca26\"],[1.0,\"#f0f921\"]]}],\"histogram\":[{\"marker\":{\"pattern\":{\"fillmode\":\"overlay\",\"size\":10,\"solidity\":0.2}}}],\"histogram2d\":[{\"colorbar\":{\"outlinewidth\":0.0,\"ticks\":\"\"},\"colorscale\":[[0.0,\"#0d0887\"],[0.1111111111111111,\"#46039f\"],[0.2222222222222222,\"#7201a8\"],[0.3333333333333333,\"#9c179e\"],[0.4444444444444444,\"#bd3786\"],[0.5555555555555556,\"#d8576b\"],[0.6666666666666666,\"#ed7953\"],[0.7777777777777778,\"#fb9f3a\"],[0.8888888888888888,\"#fdca26\"],[1.0,\"#f0f921\"]]}],\"histogram2dcontour\":[{\"colorbar\":{\"outlinewidth\":0.0,\"ticks\":\"\"},\"colorscale\":[[0.0,\"#0d0887\"],[0.1111111111111111,\"#46039f\"],[0.2222222222222222,\"#7201a8\"],[0.3333333333333333,\"#9c179e\"],[0.4444444444444444,\"#bd3786\"],[0.5555555555555556,\"#d8576b\"],[0.6666666666666666,\"#ed7953\"],[0.7777777777777778,\"#fb9f3a\"],[0.8888888888888888,\"#fdca26\"],[1.0,\"#f0f921\"]]}],\"mesh3d\":[{\"colorbar\":{\"outlinewidth\":0.0,\"ticks\":\"\"}}],\"parcoords\":[{\"line\":{\"colorbar\":{\"outlinewidth\":0.0,\"ticks\":\"\"}}}],\"pie\":[{\"automargin\":true}],\"scatter\":[{\"marker\":{\"colorbar\":{\"outlinewidth\":0.0,\"ticks\":\"\"}}}],\"scatter3d\":[{\"marker\":{\"colorbar\":{\"outlinewidth\":0.0,\"ticks\":\"\"}},\"line\":{\"colorbar\":{\"outlinewidth\":0.0,\"ticks\":\"\"}}}],\"scattercarpet\":[{\"marker\":{\"colorbar\":{\"outlinewidth\":0.0,\"ticks\":\"\"}}}],\"scattergeo\":[{\"marker\":{\"colorbar\":{\"outlinewidth\":0.0,\"ticks\":\"\"}}}],\"scattergl\":[{\"marker\":{\"colorbar\":{\"outlinewidth\":0.0,\"ticks\":\"\"}}}],\"scattermapbox\":[{\"marker\":{\"colorbar\":{\"outlinewidth\":0.0,\"ticks\":\"\"}}}],\"scatterpolar\":[{\"marker\":{\"colorbar\":{\"outlinewidth\":0.0,\"ticks\":\"\"}}}],\"scatterpolargl\":[{\"marker\":{\"colorbar\":{\"outlinewidth\":0.0,\"ticks\":\"\"}}}],\"scatterternary\":[{\"marker\":{\"colorbar\":{\"outlinewidth\":0.0,\"ticks\":\"\"}}}],\"surface\":[{\"colorbar\":{\"outlinewidth\":0.0,\"ticks\":\"\"},\"colorscale\":[[0.0,\"#0d0887\"],[0.1111111111111111,\"#46039f\"],[0.2222222222222222,\"#7201a8\"],[0.3333333333333333,\"#9c179e\"],[0.4444444444444444,\"#bd3786\"],[0.5555555555555556,\"#d8576b\"],[0.6666666666666666,\"#ed7953\"],[0.7777777777777778,\"#fb9f3a\"],[0.8888888888888888,\"#fdca26\"],[1.0,\"#f0f921\"]]}],\"table\":[{\"cells\":{\"fill\":{\"color\":\"rgba(235, 240, 248, 1.0)\"},\"line\":{\"color\":\"rgba(255, 255, 255, 1.0)\"}},\"header\":{\"fill\":{\"color\":\"rgba(200, 212, 227, 1.0)\"},\"line\":{\"color\":\"rgba(255, 255, 255, 1.0)\"}}}]}}};\r\n",
       "            var config = {\"responsive\":true};\r\n",
       "            Plotly.newPlot('b699316d-1d9a-4077-87cd-d39aa80d2ee3', data, layout, config);\r\n",
       "});\r\n",
       "            };\r\n",
       "            if ((typeof(requirejs) !==  typeof(Function)) || (typeof(requirejs.config) !== typeof(Function))) {\r\n",
       "                var script = document.createElement(\"script\");\r\n",
       "                script.setAttribute(\"src\", \"https://cdnjs.cloudflare.com/ajax/libs/require.js/2.3.6/require.min.js\");\r\n",
       "                script.onload = function(){\r\n",
       "                    renderPlotly_b699316d1d9a407787cdd39aa80d2ee3();\r\n",
       "                };\r\n",
       "                document.getElementsByTagName(\"head\")[0].appendChild(script);\r\n",
       "            }\r\n",
       "            else {\r\n",
       "                renderPlotly_b699316d1d9a407787cdd39aa80d2ee3();\r\n",
       "            }\r\n",
       "</script>\r\n"
      ]
     },
     "metadata": {},
     "output_type": "display_data"
    }
   ],
   "source": [
    "let saturdayData = FrequenciesData.frequencies[\"saturday\"]\n",
    "Chart.Line(mapKeys saturdayData, mapValues saturdayData)"
   ]
  },
  {
   "cell_type": "code",
   "execution_count": null,
   "metadata": {
    "dotnet_interactive": {
     "language": "fsharp"
    }
   },
   "outputs": [
    {
     "ename": "Error",
     "evalue": "input.fsx (13,15)-(13,32) typecheck error This function takes too many arguments, or is used in a context where a function is not expected",
     "output_type": "error",
     "traceback": [
      "input.fsx (13,15)-(13,32) typecheck error This function takes too many arguments, or is used in a context where a function is not expected"
     ]
    }
   ],
   "source": [
    "open QueueDataGenerator\n",
    "open QueueFunctionGeneration\n",
    "open Simulator\n",
    "\n",
    "\n",
    "let config1 : QueueFunctionGeneration.Options = \n",
    "    (IgnoreFrequencyData, IgnoreCoopNetwork, defaultUnawareRandomNormalDepsCount)\n",
    "let queueData = generateFunctionQueueData config1 6\n",
    "// let context = runSimulatonWithQueueData \"saturday\" queueData noMergeScheduler\n",
    "\n",
    "let x = DependencyGraph(queueData.funcs)\n"
   ]
  },
  {
   "cell_type": "code",
   "execution_count": null,
   "metadata": {
    "dotnet_interactive": {
     "language": "fsharp"
    }
   },
   "outputs": [
    {
     "data": {
      "text/html": [
       "<table><thead><tr><th><i>index</i></th><th>utilization</th><th>responseTime</th><th>turnaroundTime</th><th>cost</th></tr></thead><tbody><tr><td>0</td><td><div class=\"dni-plaintext\">0.04612887905122879</div></td><td><table><thead><tr><th>Days</th><th>NanosecondOfDay</th><th>Hours</th><th>Minutes</th><th>Seconds</th><th>Milliseconds</th><th>SubsecondTicks</th><th>SubsecondNanoseconds</th><th>BclCompatibleTicks</th><th>TotalDays</th><th>TotalHours</th><th>TotalMinutes</th><th>TotalSeconds</th><th>TotalMilliseconds</th><th>TotalTicks</th><th>TotalNanoseconds</th></tr></thead><tbody><tr><td><div class=\"dni-plaintext\">0</div></td><td><div class=\"dni-plaintext\">522000000000</div></td><td><div class=\"dni-plaintext\">0</div></td><td><div class=\"dni-plaintext\">8</div></td><td><div class=\"dni-plaintext\">42</div></td><td><div class=\"dni-plaintext\">0</div></td><td><div class=\"dni-plaintext\">0</div></td><td><div class=\"dni-plaintext\">0</div></td><td><div class=\"dni-plaintext\">5220000000</div></td><td><div class=\"dni-plaintext\">0.0060416666666666665</div></td><td><div class=\"dni-plaintext\">0.145</div></td><td><div class=\"dni-plaintext\">8.7</div></td><td><div class=\"dni-plaintext\">522</div></td><td><div class=\"dni-plaintext\">522000</div></td><td><div class=\"dni-plaintext\">5220000000</div></td><td><div class=\"dni-plaintext\">522000000000</div></td></tr></tbody></table></td><td><table><thead><tr><th>Days</th><th>NanosecondOfDay</th><th>Hours</th><th>Minutes</th><th>Seconds</th><th>Milliseconds</th><th>SubsecondTicks</th><th>SubsecondNanoseconds</th><th>BclCompatibleTicks</th><th>TotalDays</th><th>TotalHours</th><th>TotalMinutes</th><th>TotalSeconds</th><th>TotalMilliseconds</th><th>TotalTicks</th><th>TotalNanoseconds</th></tr></thead><tbody><tr><td><div class=\"dni-plaintext\">0</div></td><td><div class=\"dni-plaintext\">528504263147</div></td><td><div class=\"dni-plaintext\">0</div></td><td><div class=\"dni-plaintext\">8</div></td><td><div class=\"dni-plaintext\">48</div></td><td><div class=\"dni-plaintext\">504</div></td><td><div class=\"dni-plaintext\">5042631</div></td><td><div class=\"dni-plaintext\">504263147</div></td><td><div class=\"dni-plaintext\">5285042631</div></td><td><div class=\"dni-plaintext\">0.006116947490127315</div></td><td><div class=\"dni-plaintext\">0.14680673976305555</div></td><td><div class=\"dni-plaintext\">8.808404385783334</div></td><td><div class=\"dni-plaintext\">528.504263147</div></td><td><div class=\"dni-plaintext\">528504.263147</div></td><td><div class=\"dni-plaintext\">5285042631.47</div></td><td><div class=\"dni-plaintext\">528504263147</div></td></tr></tbody></table></td><td><div class=\"dni-plaintext\">0.0061562505264666665</div></td></tr><tr><td>1</td><td><div class=\"dni-plaintext\">0.06681392075498076</div></td><td><table><thead><tr><th>Days</th><th>NanosecondOfDay</th><th>Hours</th><th>Minutes</th><th>Seconds</th><th>Milliseconds</th><th>SubsecondTicks</th><th>SubsecondNanoseconds</th><th>BclCompatibleTicks</th><th>TotalDays</th><th>TotalHours</th><th>TotalMinutes</th><th>TotalSeconds</th><th>TotalMilliseconds</th><th>TotalTicks</th><th>TotalNanoseconds</th></tr></thead><tbody><tr><td><div class=\"dni-plaintext\">0</div></td><td><div class=\"dni-plaintext\">288000000000</div></td><td><div class=\"dni-plaintext\">0</div></td><td><div class=\"dni-plaintext\">4</div></td><td><div class=\"dni-plaintext\">48</div></td><td><div class=\"dni-plaintext\">0</div></td><td><div class=\"dni-plaintext\">0</div></td><td><div class=\"dni-plaintext\">0</div></td><td><div class=\"dni-plaintext\">2880000000</div></td><td><div class=\"dni-plaintext\">0.0033333333333333335</div></td><td><div class=\"dni-plaintext\">0.08</div></td><td><div class=\"dni-plaintext\">4.8</div></td><td><div class=\"dni-plaintext\">288</div></td><td><div class=\"dni-plaintext\">288000</div></td><td><div class=\"dni-plaintext\">2880000000</div></td><td><div class=\"dni-plaintext\">288000000000</div></td></tr></tbody></table></td><td><table><thead><tr><th>Days</th><th>NanosecondOfDay</th><th>Hours</th><th>Minutes</th><th>Seconds</th><th>Milliseconds</th><th>SubsecondTicks</th><th>SubsecondNanoseconds</th><th>BclCompatibleTicks</th><th>TotalDays</th><th>TotalHours</th><th>TotalMinutes</th><th>TotalSeconds</th><th>TotalMilliseconds</th><th>TotalTicks</th><th>TotalNanoseconds</th></tr></thead><tbody><tr><td><div class=\"dni-plaintext\">0</div></td><td><div class=\"dni-plaintext\">290116136176</div></td><td><div class=\"dni-plaintext\">0</div></td><td><div class=\"dni-plaintext\">4</div></td><td><div class=\"dni-plaintext\">50</div></td><td><div class=\"dni-plaintext\">116</div></td><td><div class=\"dni-plaintext\">1161361</div></td><td><div class=\"dni-plaintext\">116136176</div></td><td><div class=\"dni-plaintext\">2901161361</div></td><td><div class=\"dni-plaintext\">0.0033578256501851853</div></td><td><div class=\"dni-plaintext\">0.08058781560444445</div></td><td><div class=\"dni-plaintext\">4.835268936266667</div></td><td><div class=\"dni-plaintext\">290.116136176</div></td><td><div class=\"dni-plaintext\">290116.136176</div></td><td><div class=\"dni-plaintext\">2901161361.76</div></td><td><div class=\"dni-plaintext\">290116136176</div></td></tr></tbody></table></td><td><div class=\"dni-plaintext\">0.003454308519888889</div></td></tr><tr><td>2</td><td><div class=\"dni-plaintext\">0.0935589204955372</div></td><td><table><thead><tr><th>Days</th><th>NanosecondOfDay</th><th>Hours</th><th>Minutes</th><th>Seconds</th><th>Milliseconds</th><th>SubsecondTicks</th><th>SubsecondNanoseconds</th><th>BclCompatibleTicks</th><th>TotalDays</th><th>TotalHours</th><th>TotalMinutes</th><th>TotalSeconds</th><th>TotalMilliseconds</th><th>TotalTicks</th><th>TotalNanoseconds</th></tr></thead><tbody><tr><td><div class=\"dni-plaintext\">0</div></td><td><div class=\"dni-plaintext\">343000000000</div></td><td><div class=\"dni-plaintext\">0</div></td><td><div class=\"dni-plaintext\">5</div></td><td><div class=\"dni-plaintext\">43</div></td><td><div class=\"dni-plaintext\">0</div></td><td><div class=\"dni-plaintext\">0</div></td><td><div class=\"dni-plaintext\">0</div></td><td><div class=\"dni-plaintext\">3430000000</div></td><td><div class=\"dni-plaintext\">0.003969907407407407</div></td><td><div class=\"dni-plaintext\">0.09527777777777778</div></td><td><div class=\"dni-plaintext\">5.716666666666667</div></td><td><div class=\"dni-plaintext\">343</div></td><td><div class=\"dni-plaintext\">343000</div></td><td><div class=\"dni-plaintext\">3430000000</div></td><td><div class=\"dni-plaintext\">343000000000</div></td></tr></tbody></table></td><td><table><thead><tr><th>Days</th><th>NanosecondOfDay</th><th>Hours</th><th>Minutes</th><th>Seconds</th><th>Milliseconds</th><th>SubsecondTicks</th><th>SubsecondNanoseconds</th><th>BclCompatibleTicks</th><th>TotalDays</th><th>TotalHours</th><th>TotalMinutes</th><th>TotalSeconds</th><th>TotalMilliseconds</th><th>TotalTicks</th><th>TotalNanoseconds</th></tr></thead><tbody><tr><td><div class=\"dni-plaintext\">0</div></td><td><div class=\"dni-plaintext\">347575960282</div></td><td><div class=\"dni-plaintext\">0</div></td><td><div class=\"dni-plaintext\">5</div></td><td><div class=\"dni-plaintext\">47</div></td><td><div class=\"dni-plaintext\">575</div></td><td><div class=\"dni-plaintext\">5759602</div></td><td><div class=\"dni-plaintext\">575960282</div></td><td><div class=\"dni-plaintext\">3475759602</div></td><td><div class=\"dni-plaintext\">0.004022869910671296</div></td><td><div class=\"dni-plaintext\">0.09654887785611112</div></td><td><div class=\"dni-plaintext\">5.792932671366667</div></td><td><div class=\"dni-plaintext\">347.575960282</div></td><td><div class=\"dni-plaintext\">347575.960282</div></td><td><div class=\"dni-plaintext\">3475759602.82</div></td><td><div class=\"dni-plaintext\">347575960282</div></td></tr></tbody></table></td><td><div class=\"dni-plaintext\">0.004260569386766667</div></td></tr><tr><td>3</td><td><div class=\"dni-plaintext\">0.3125057826459409</div></td><td><table><thead><tr><th>Days</th><th>NanosecondOfDay</th><th>Hours</th><th>Minutes</th><th>Seconds</th><th>Milliseconds</th><th>SubsecondTicks</th><th>SubsecondNanoseconds</th><th>BclCompatibleTicks</th><th>TotalDays</th><th>TotalHours</th><th>TotalMinutes</th><th>TotalSeconds</th><th>TotalMilliseconds</th><th>TotalTicks</th><th>TotalNanoseconds</th></tr></thead><tbody><tr><td><div class=\"dni-plaintext\">0</div></td><td><div class=\"dni-plaintext\">262000000000</div></td><td><div class=\"dni-plaintext\">0</div></td><td><div class=\"dni-plaintext\">4</div></td><td><div class=\"dni-plaintext\">22</div></td><td><div class=\"dni-plaintext\">0</div></td><td><div class=\"dni-plaintext\">0</div></td><td><div class=\"dni-plaintext\">0</div></td><td><div class=\"dni-plaintext\">2620000000</div></td><td><div class=\"dni-plaintext\">0.0030324074074074073</div></td><td><div class=\"dni-plaintext\">0.07277777777777777</div></td><td><div class=\"dni-plaintext\">4.366666666666666</div></td><td><div class=\"dni-plaintext\">262</div></td><td><div class=\"dni-plaintext\">262000</div></td><td><div class=\"dni-plaintext\">2620000000</div></td><td><div class=\"dni-plaintext\">262000000000</div></td></tr></tbody></table></td><td><table><thead><tr><th>Days</th><th>NanosecondOfDay</th><th>Hours</th><th>Minutes</th><th>Seconds</th><th>Milliseconds</th><th>SubsecondTicks</th><th>SubsecondNanoseconds</th><th>BclCompatibleTicks</th><th>TotalDays</th><th>TotalHours</th><th>TotalMinutes</th><th>TotalSeconds</th><th>TotalMilliseconds</th><th>TotalTicks</th><th>TotalNanoseconds</th></tr></thead><tbody><tr><td><div class=\"dni-plaintext\">0</div></td><td><div class=\"dni-plaintext\">265031932361</div></td><td><div class=\"dni-plaintext\">0</div></td><td><div class=\"dni-plaintext\">4</div></td><td><div class=\"dni-plaintext\">25</div></td><td><div class=\"dni-plaintext\">31</div></td><td><div class=\"dni-plaintext\">319323</div></td><td><div class=\"dni-plaintext\">31932361</div></td><td><div class=\"dni-plaintext\">2650319323</div></td><td><div class=\"dni-plaintext\">0.003067499217141204</div></td><td><div class=\"dni-plaintext\">0.0736199812113889</div></td><td><div class=\"dni-plaintext\">4.4171988726833336</div></td><td><div class=\"dni-plaintext\">265.031932361</div></td><td><div class=\"dni-plaintext\">265031.932361</div></td><td><div class=\"dni-plaintext\">2650319323.61</div></td><td><div class=\"dni-plaintext\">265031932361</div></td></tr></tbody></table></td><td><div class=\"dni-plaintext\">0.004283380389422223</div></td></tr><tr><td>4</td><td><div class=\"dni-plaintext\">0.27795652702342755</div></td><td><table><thead><tr><th>Days</th><th>NanosecondOfDay</th><th>Hours</th><th>Minutes</th><th>Seconds</th><th>Milliseconds</th><th>SubsecondTicks</th><th>SubsecondNanoseconds</th><th>BclCompatibleTicks</th><th>TotalDays</th><th>TotalHours</th><th>TotalMinutes</th><th>TotalSeconds</th><th>TotalMilliseconds</th><th>TotalTicks</th><th>TotalNanoseconds</th></tr></thead><tbody><tr><td><div class=\"dni-plaintext\">0</div></td><td><div class=\"dni-plaintext\">249000000000</div></td><td><div class=\"dni-plaintext\">0</div></td><td><div class=\"dni-plaintext\">4</div></td><td><div class=\"dni-plaintext\">9</div></td><td><div class=\"dni-plaintext\">0</div></td><td><div class=\"dni-plaintext\">0</div></td><td><div class=\"dni-plaintext\">0</div></td><td><div class=\"dni-plaintext\">2490000000</div></td><td><div class=\"dni-plaintext\">0.0028819444444444444</div></td><td><div class=\"dni-plaintext\">0.06916666666666667</div></td><td><div class=\"dni-plaintext\">4.15</div></td><td><div class=\"dni-plaintext\">249</div></td><td><div class=\"dni-plaintext\">249000</div></td><td><div class=\"dni-plaintext\">2490000000</div></td><td><div class=\"dni-plaintext\">249000000000</div></td></tr></tbody></table></td><td><table><thead><tr><th>Days</th><th>NanosecondOfDay</th><th>Hours</th><th>Minutes</th><th>Seconds</th><th>Milliseconds</th><th>SubsecondTicks</th><th>SubsecondNanoseconds</th><th>BclCompatibleTicks</th><th>TotalDays</th><th>TotalHours</th><th>TotalMinutes</th><th>TotalSeconds</th><th>TotalMilliseconds</th><th>TotalTicks</th><th>TotalNanoseconds</th></tr></thead><tbody><tr><td><div class=\"dni-plaintext\">0</div></td><td><div class=\"dni-plaintext\">251073821109</div></td><td><div class=\"dni-plaintext\">0</div></td><td><div class=\"dni-plaintext\">4</div></td><td><div class=\"dni-plaintext\">11</div></td><td><div class=\"dni-plaintext\">73</div></td><td><div class=\"dni-plaintext\">738211</div></td><td><div class=\"dni-plaintext\">73821109</div></td><td><div class=\"dni-plaintext\">2510738211</div></td><td><div class=\"dni-plaintext\">0.002905947003576389</div></td><td><div class=\"dni-plaintext\">0.06974272808583333</div></td><td><div class=\"dni-plaintext\">4.18456368515</div></td><td><div class=\"dni-plaintext\">251.073821109</div></td><td><div class=\"dni-plaintext\">251073.821109</div></td><td><div class=\"dni-plaintext\">2510738211.09</div></td><td><div class=\"dni-plaintext\">251073821109</div></td></tr></tbody></table></td><td><div class=\"dni-plaintext\">0.0038636304154000003</div></td></tr><tr><td>5</td><td><div class=\"dni-plaintext\">0.03665024188370652</div></td><td><table><thead><tr><th>Days</th><th>NanosecondOfDay</th><th>Hours</th><th>Minutes</th><th>Seconds</th><th>Milliseconds</th><th>SubsecondTicks</th><th>SubsecondNanoseconds</th><th>BclCompatibleTicks</th><th>TotalDays</th><th>TotalHours</th><th>TotalMinutes</th><th>TotalSeconds</th><th>TotalMilliseconds</th><th>TotalTicks</th><th>TotalNanoseconds</th></tr></thead><tbody><tr><td><div class=\"dni-plaintext\">0</div></td><td><div class=\"dni-plaintext\">701000000000</div></td><td><div class=\"dni-plaintext\">0</div></td><td><div class=\"dni-plaintext\">11</div></td><td><div class=\"dni-plaintext\">41</div></td><td><div class=\"dni-plaintext\">0</div></td><td><div class=\"dni-plaintext\">0</div></td><td><div class=\"dni-plaintext\">0</div></td><td><div class=\"dni-plaintext\">7010000000</div></td><td><div class=\"dni-plaintext\">0.008113425925925927</div></td><td><div class=\"dni-plaintext\">0.1947222222222222</div></td><td><div class=\"dni-plaintext\">11.683333333333334</div></td><td><div class=\"dni-plaintext\">701</div></td><td><div class=\"dni-plaintext\">701000</div></td><td><div class=\"dni-plaintext\">7010000000</div></td><td><div class=\"dni-plaintext\">701000000000</div></td></tr></tbody></table></td><td><table><thead><tr><th>Days</th><th>NanosecondOfDay</th><th>Hours</th><th>Minutes</th><th>Seconds</th><th>Milliseconds</th><th>SubsecondTicks</th><th>SubsecondNanoseconds</th><th>BclCompatibleTicks</th><th>TotalDays</th><th>TotalHours</th><th>TotalMinutes</th><th>TotalSeconds</th><th>TotalMilliseconds</th><th>TotalTicks</th><th>TotalNanoseconds</th></tr></thead><tbody><tr><td><div class=\"dni-plaintext\">0</div></td><td><div class=\"dni-plaintext\">709581214855</div></td><td><div class=\"dni-plaintext\">0</div></td><td><div class=\"dni-plaintext\">11</div></td><td><div class=\"dni-plaintext\">49</div></td><td><div class=\"dni-plaintext\">581</div></td><td><div class=\"dni-plaintext\">5812148</div></td><td><div class=\"dni-plaintext\">581214855</div></td><td><div class=\"dni-plaintext\">7095812148</div></td><td><div class=\"dni-plaintext\">0.008212745542303241</div></td><td><div class=\"dni-plaintext\">0.19710589301527778</div></td><td><div class=\"dni-plaintext\">11.826353580916667</div></td><td><div class=\"dni-plaintext\">709.581214855</div></td><td><div class=\"dni-plaintext\">709581.214855</div></td><td><div class=\"dni-plaintext\">7095812148.55</div></td><td><div class=\"dni-plaintext\">709581214855</div></td></tr></tbody></table></td><td><div class=\"dni-plaintext\">0.008184188197677777</div></td></tr><tr><td>6</td><td><div class=\"dni-plaintext\">0.11498886449594543</div></td><td><table><thead><tr><th>Days</th><th>NanosecondOfDay</th><th>Hours</th><th>Minutes</th><th>Seconds</th><th>Milliseconds</th><th>SubsecondTicks</th><th>SubsecondNanoseconds</th><th>BclCompatibleTicks</th><th>TotalDays</th><th>TotalHours</th><th>TotalMinutes</th><th>TotalSeconds</th><th>TotalMilliseconds</th><th>TotalTicks</th><th>TotalNanoseconds</th></tr></thead><tbody><tr><td><div class=\"dni-plaintext\">0</div></td><td><div class=\"dni-plaintext\">197000000000</div></td><td><div class=\"dni-plaintext\">0</div></td><td><div class=\"dni-plaintext\">3</div></td><td><div class=\"dni-plaintext\">17</div></td><td><div class=\"dni-plaintext\">0</div></td><td><div class=\"dni-plaintext\">0</div></td><td><div class=\"dni-plaintext\">0</div></td><td><div class=\"dni-plaintext\">1970000000</div></td><td><div class=\"dni-plaintext\">0.0022800925925925927</div></td><td><div class=\"dni-plaintext\">0.05472222222222222</div></td><td><div class=\"dni-plaintext\">3.283333333333333</div></td><td><div class=\"dni-plaintext\">197</div></td><td><div class=\"dni-plaintext\">197000</div></td><td><div class=\"dni-plaintext\">1970000000</div></td><td><div class=\"dni-plaintext\">197000000000</div></td></tr></tbody></table></td><td><table><thead><tr><th>Days</th><th>NanosecondOfDay</th><th>Hours</th><th>Minutes</th><th>Seconds</th><th>Milliseconds</th><th>SubsecondTicks</th><th>SubsecondNanoseconds</th><th>BclCompatibleTicks</th><th>TotalDays</th><th>TotalHours</th><th>TotalMinutes</th><th>TotalSeconds</th><th>TotalMilliseconds</th><th>TotalTicks</th><th>TotalNanoseconds</th></tr></thead><tbody><tr><td><div class=\"dni-plaintext\">0</div></td><td><div class=\"dni-plaintext\">204475141918</div></td><td><div class=\"dni-plaintext\">0</div></td><td><div class=\"dni-plaintext\">3</div></td><td><div class=\"dni-plaintext\">24</div></td><td><div class=\"dni-plaintext\">475</div></td><td><div class=\"dni-plaintext\">4751419</div></td><td><div class=\"dni-plaintext\">475141918</div></td><td><div class=\"dni-plaintext\">2044751419</div></td><td><div class=\"dni-plaintext\">0.002366610438865741</div></td><td><div class=\"dni-plaintext\">0.05679865053277778</div></td><td><div class=\"dni-plaintext\">3.407919031966667</div></td><td><div class=\"dni-plaintext\">204.475141918</div></td><td><div class=\"dni-plaintext\">204475.141918</div></td><td><div class=\"dni-plaintext\">2044751419.18</div></td><td><div class=\"dni-plaintext\">204475141918</div></td></tr></tbody></table></td><td><div class=\"dni-plaintext\">0.0025671383445555556</div></td></tr><tr><td>7</td><td><div class=\"dni-plaintext\">0.03201305511609466</div></td><td><table><thead><tr><th>Days</th><th>NanosecondOfDay</th><th>Hours</th><th>Minutes</th><th>Seconds</th><th>Milliseconds</th><th>SubsecondTicks</th><th>SubsecondNanoseconds</th><th>BclCompatibleTicks</th><th>TotalDays</th><th>TotalHours</th><th>TotalMinutes</th><th>TotalSeconds</th><th>TotalMilliseconds</th><th>TotalTicks</th><th>TotalNanoseconds</th></tr></thead><tbody><tr><td><div class=\"dni-plaintext\">0</div></td><td><div class=\"dni-plaintext\">651000000000</div></td><td><div class=\"dni-plaintext\">0</div></td><td><div class=\"dni-plaintext\">10</div></td><td><div class=\"dni-plaintext\">51</div></td><td><div class=\"dni-plaintext\">0</div></td><td><div class=\"dni-plaintext\">0</div></td><td><div class=\"dni-plaintext\">0</div></td><td><div class=\"dni-plaintext\">6510000000</div></td><td><div class=\"dni-plaintext\">0.007534722222222222</div></td><td><div class=\"dni-plaintext\">0.18083333333333335</div></td><td><div class=\"dni-plaintext\">10.85</div></td><td><div class=\"dni-plaintext\">651</div></td><td><div class=\"dni-plaintext\">651000</div></td><td><div class=\"dni-plaintext\">6510000000</div></td><td><div class=\"dni-plaintext\">651000000000</div></td></tr></tbody></table></td><td><table><thead><tr><th>Days</th><th>NanosecondOfDay</th><th>Hours</th><th>Minutes</th><th>Seconds</th><th>Milliseconds</th><th>SubsecondTicks</th><th>SubsecondNanoseconds</th><th>BclCompatibleTicks</th><th>TotalDays</th><th>TotalHours</th><th>TotalMinutes</th><th>TotalSeconds</th><th>TotalMilliseconds</th><th>TotalTicks</th><th>TotalNanoseconds</th></tr></thead><tbody><tr><td><div class=\"dni-plaintext\">0</div></td><td><div class=\"dni-plaintext\">655094850735</div></td><td><div class=\"dni-plaintext\">0</div></td><td><div class=\"dni-plaintext\">10</div></td><td><div class=\"dni-plaintext\">55</div></td><td><div class=\"dni-plaintext\">94</div></td><td><div class=\"dni-plaintext\">948507</div></td><td><div class=\"dni-plaintext\">94850735</div></td><td><div class=\"dni-plaintext\">6550948507</div></td><td><div class=\"dni-plaintext\">0.007582116327951389</div></td><td><div class=\"dni-plaintext\">0.18197079187083334</div></td><td><div class=\"dni-plaintext\">10.91824751225</div></td><td><div class=\"dni-plaintext\">655.094850735</div></td><td><div class=\"dni-plaintext\">655094.850735</div></td><td><div class=\"dni-plaintext\">6550948507.35</div></td><td><div class=\"dni-plaintext\">655094850735</div></td></tr></tbody></table></td><td><div class=\"dni-plaintext\">0.007519555623455556</div></td></tr><tr><td>8</td><td><div class=\"dni-plaintext\">0.17618754344415</div></td><td><table><thead><tr><th>Days</th><th>NanosecondOfDay</th><th>Hours</th><th>Minutes</th><th>Seconds</th><th>Milliseconds</th><th>SubsecondTicks</th><th>SubsecondNanoseconds</th><th>BclCompatibleTicks</th><th>TotalDays</th><th>TotalHours</th><th>TotalMinutes</th><th>TotalSeconds</th><th>TotalMilliseconds</th><th>TotalTicks</th><th>TotalNanoseconds</th></tr></thead><tbody><tr><td><div class=\"dni-plaintext\">0</div></td><td><div class=\"dni-plaintext\">229000000000</div></td><td><div class=\"dni-plaintext\">0</div></td><td><div class=\"dni-plaintext\">3</div></td><td><div class=\"dni-plaintext\">49</div></td><td><div class=\"dni-plaintext\">0</div></td><td><div class=\"dni-plaintext\">0</div></td><td><div class=\"dni-plaintext\">0</div></td><td><div class=\"dni-plaintext\">2290000000</div></td><td><div class=\"dni-plaintext\">0.002650462962962963</div></td><td><div class=\"dni-plaintext\">0.0636111111111111</div></td><td><div class=\"dni-plaintext\">3.816666666666667</div></td><td><div class=\"dni-plaintext\">229</div></td><td><div class=\"dni-plaintext\">229000</div></td><td><div class=\"dni-plaintext\">2290000000</div></td><td><div class=\"dni-plaintext\">229000000000</div></td></tr></tbody></table></td><td><table><thead><tr><th>Days</th><th>NanosecondOfDay</th><th>Hours</th><th>Minutes</th><th>Seconds</th><th>Milliseconds</th><th>SubsecondTicks</th><th>SubsecondNanoseconds</th><th>BclCompatibleTicks</th><th>TotalDays</th><th>TotalHours</th><th>TotalMinutes</th><th>TotalSeconds</th><th>TotalMilliseconds</th><th>TotalTicks</th><th>TotalNanoseconds</th></tr></thead><tbody><tr><td><div class=\"dni-plaintext\">0</div></td><td><div class=\"dni-plaintext\">235069157465</div></td><td><div class=\"dni-plaintext\">0</div></td><td><div class=\"dni-plaintext\">3</div></td><td><div class=\"dni-plaintext\">55</div></td><td><div class=\"dni-plaintext\">69</div></td><td><div class=\"dni-plaintext\">691574</div></td><td><div class=\"dni-plaintext\">69157465</div></td><td><div class=\"dni-plaintext\">2350691574</div></td><td><div class=\"dni-plaintext\">0.0027207078410300925</div></td><td><div class=\"dni-plaintext\">0.06529698818472222</div></td><td><div class=\"dni-plaintext\">3.917819291083333</div></td><td><div class=\"dni-plaintext\">235.069157465</div></td><td><div class=\"dni-plaintext\">235069.157465</div></td><td><div class=\"dni-plaintext\">2350691574.65</div></td><td><div class=\"dni-plaintext\">235069157465</div></td></tr></tbody></table></td><td><div class=\"dni-plaintext\">0.003170478312877778</div></td></tr><tr><td>9</td><td><div class=\"dni-plaintext\">0.3409834937551795</div></td><td><table><thead><tr><th>Days</th><th>NanosecondOfDay</th><th>Hours</th><th>Minutes</th><th>Seconds</th><th>Milliseconds</th><th>SubsecondTicks</th><th>SubsecondNanoseconds</th><th>BclCompatibleTicks</th><th>TotalDays</th><th>TotalHours</th><th>TotalMinutes</th><th>TotalSeconds</th><th>TotalMilliseconds</th><th>TotalTicks</th><th>TotalNanoseconds</th></tr></thead><tbody><tr><td><div class=\"dni-plaintext\">0</div></td><td><div class=\"dni-plaintext\">205000000000</div></td><td><div class=\"dni-plaintext\">0</div></td><td><div class=\"dni-plaintext\">3</div></td><td><div class=\"dni-plaintext\">25</div></td><td><div class=\"dni-plaintext\">0</div></td><td><div class=\"dni-plaintext\">0</div></td><td><div class=\"dni-plaintext\">0</div></td><td><div class=\"dni-plaintext\">2050000000</div></td><td><div class=\"dni-plaintext\">0.002372685185185185</div></td><td><div class=\"dni-plaintext\">0.05694444444444444</div></td><td><div class=\"dni-plaintext\">3.4166666666666665</div></td><td><div class=\"dni-plaintext\">205</div></td><td><div class=\"dni-plaintext\">205000</div></td><td><div class=\"dni-plaintext\">2050000000</div></td><td><div class=\"dni-plaintext\">205000000000</div></td></tr></tbody></table></td><td><table><thead><tr><th>Days</th><th>NanosecondOfDay</th><th>Hours</th><th>Minutes</th><th>Seconds</th><th>Milliseconds</th><th>SubsecondTicks</th><th>SubsecondNanoseconds</th><th>BclCompatibleTicks</th><th>TotalDays</th><th>TotalHours</th><th>TotalMinutes</th><th>TotalSeconds</th><th>TotalMilliseconds</th><th>TotalTicks</th><th>TotalNanoseconds</th></tr></thead><tbody><tr><td><div class=\"dni-plaintext\">0</div></td><td><div class=\"dni-plaintext\">207436038706</div></td><td><div class=\"dni-plaintext\">0</div></td><td><div class=\"dni-plaintext\">3</div></td><td><div class=\"dni-plaintext\">27</div></td><td><div class=\"dni-plaintext\">436</div></td><td><div class=\"dni-plaintext\">4360387</div></td><td><div class=\"dni-plaintext\">436038706</div></td><td><div class=\"dni-plaintext\">2074360387</div></td><td><div class=\"dni-plaintext\">0.002400880077615741</div></td><td><div class=\"dni-plaintext\">0.05762112186277778</div></td><td><div class=\"dni-plaintext\">3.4572673117666666</div></td><td><div class=\"dni-plaintext\">207.436038706</div></td><td><div class=\"dni-plaintext\">207436.038706</div></td><td><div class=\"dni-plaintext\">2074360387.06</div></td><td><div class=\"dni-plaintext\">207436038706</div></td></tr></tbody></table></td><td><div class=\"dni-plaintext\">0.0034974008278555557</div></td></tr><tr><td>10</td><td><div class=\"dni-plaintext\">0.00513666323598768</div></td><td><table><thead><tr><th>Days</th><th>NanosecondOfDay</th><th>Hours</th><th>Minutes</th><th>Seconds</th><th>Milliseconds</th><th>SubsecondTicks</th><th>SubsecondNanoseconds</th><th>BclCompatibleTicks</th><th>TotalDays</th><th>TotalHours</th><th>TotalMinutes</th><th>TotalSeconds</th><th>TotalMilliseconds</th><th>TotalTicks</th><th>TotalNanoseconds</th></tr></thead><tbody><tr><td><div class=\"dni-plaintext\">0</div></td><td><div class=\"dni-plaintext\">217000000000</div></td><td><div class=\"dni-plaintext\">0</div></td><td><div class=\"dni-plaintext\">3</div></td><td><div class=\"dni-plaintext\">37</div></td><td><div class=\"dni-plaintext\">0</div></td><td><div class=\"dni-plaintext\">0</div></td><td><div class=\"dni-plaintext\">0</div></td><td><div class=\"dni-plaintext\">2170000000</div></td><td><div class=\"dni-plaintext\">0.002511574074074074</div></td><td><div class=\"dni-plaintext\">0.06027777777777778</div></td><td><div class=\"dni-plaintext\">3.6166666666666667</div></td><td><div class=\"dni-plaintext\">217</div></td><td><div class=\"dni-plaintext\">217000</div></td><td><div class=\"dni-plaintext\">2170000000</div></td><td><div class=\"dni-plaintext\">217000000000</div></td></tr></tbody></table></td><td><table><thead><tr><th>Days</th><th>NanosecondOfDay</th><th>Hours</th><th>Minutes</th><th>Seconds</th><th>Milliseconds</th><th>SubsecondTicks</th><th>SubsecondNanoseconds</th><th>BclCompatibleTicks</th><th>TotalDays</th><th>TotalHours</th><th>TotalMinutes</th><th>TotalSeconds</th><th>TotalMilliseconds</th><th>TotalTicks</th><th>TotalNanoseconds</th></tr></thead><tbody><tr><td><div class=\"dni-plaintext\">0</div></td><td><div class=\"dni-plaintext\">228762836102</div></td><td><div class=\"dni-plaintext\">0</div></td><td><div class=\"dni-plaintext\">3</div></td><td><div class=\"dni-plaintext\">48</div></td><td><div class=\"dni-plaintext\">762</div></td><td><div class=\"dni-plaintext\">7628361</div></td><td><div class=\"dni-plaintext\">762836102</div></td><td><div class=\"dni-plaintext\">2287628361</div></td><td><div class=\"dni-plaintext\">0.0026477180104398147</div></td><td><div class=\"dni-plaintext\">0.06354523225055556</div></td><td><div class=\"dni-plaintext\">3.8127139350333334</div></td><td><div class=\"dni-plaintext\">228.762836102</div></td><td><div class=\"dni-plaintext\">228762.836102</div></td><td><div class=\"dni-plaintext\">2287628361.02</div></td><td><div class=\"dni-plaintext\">228762836102</div></td></tr></tbody></table></td><td><div class=\"dni-plaintext\">0.0025549331210555555</div></td></tr><tr><td>11</td><td><div class=\"dni-plaintext\">0.0213526503387427</div></td><td><table><thead><tr><th>Days</th><th>NanosecondOfDay</th><th>Hours</th><th>Minutes</th><th>Seconds</th><th>Milliseconds</th><th>SubsecondTicks</th><th>SubsecondNanoseconds</th><th>BclCompatibleTicks</th><th>TotalDays</th><th>TotalHours</th><th>TotalMinutes</th><th>TotalSeconds</th><th>TotalMilliseconds</th><th>TotalTicks</th><th>TotalNanoseconds</th></tr></thead><tbody><tr><td><div class=\"dni-plaintext\">0</div></td><td><div class=\"dni-plaintext\">341000000000</div></td><td><div class=\"dni-plaintext\">0</div></td><td><div class=\"dni-plaintext\">5</div></td><td><div class=\"dni-plaintext\">41</div></td><td><div class=\"dni-plaintext\">0</div></td><td><div class=\"dni-plaintext\">0</div></td><td><div class=\"dni-plaintext\">0</div></td><td><div class=\"dni-plaintext\">3410000000</div></td><td><div class=\"dni-plaintext\">0.003946759259259259</div></td><td><div class=\"dni-plaintext\">0.09472222222222222</div></td><td><div class=\"dni-plaintext\">5.683333333333334</div></td><td><div class=\"dni-plaintext\">341</div></td><td><div class=\"dni-plaintext\">341000</div></td><td><div class=\"dni-plaintext\">3410000000</div></td><td><div class=\"dni-plaintext\">341000000000</div></td></tr></tbody></table></td><td><table><thead><tr><th>Days</th><th>NanosecondOfDay</th><th>Hours</th><th>Minutes</th><th>Seconds</th><th>Milliseconds</th><th>SubsecondTicks</th><th>SubsecondNanoseconds</th><th>BclCompatibleTicks</th><th>TotalDays</th><th>TotalHours</th><th>TotalMinutes</th><th>TotalSeconds</th><th>TotalMilliseconds</th><th>TotalTicks</th><th>TotalNanoseconds</th></tr></thead><tbody><tr><td><div class=\"dni-plaintext\">0</div></td><td><div class=\"dni-plaintext\">345476222337</div></td><td><div class=\"dni-plaintext\">0</div></td><td><div class=\"dni-plaintext\">5</div></td><td><div class=\"dni-plaintext\">45</div></td><td><div class=\"dni-plaintext\">476</div></td><td><div class=\"dni-plaintext\">4762223</div></td><td><div class=\"dni-plaintext\">476222337</div></td><td><div class=\"dni-plaintext\">3454762223</div></td><td><div class=\"dni-plaintext\">0.003998567388159722</div></td><td><div class=\"dni-plaintext\">0.09596561731583333</div></td><td><div class=\"dni-plaintext\">5.75793703895</div></td><td><div class=\"dni-plaintext\">345.476222337</div></td><td><div class=\"dni-plaintext\">345476.222337</div></td><td><div class=\"dni-plaintext\">3454762223.37</div></td><td><div class=\"dni-plaintext\">345476222337</div></td></tr></tbody></table></td><td><div class=\"dni-plaintext\">0.0039223778554777775</div></td></tr><tr><td>12</td><td><div class=\"dni-plaintext\">0.1237131942762597</div></td><td><table><thead><tr><th>Days</th><th>NanosecondOfDay</th><th>Hours</th><th>Minutes</th><th>Seconds</th><th>Milliseconds</th><th>SubsecondTicks</th><th>SubsecondNanoseconds</th><th>BclCompatibleTicks</th><th>TotalDays</th><th>TotalHours</th><th>TotalMinutes</th><th>TotalSeconds</th><th>TotalMilliseconds</th><th>TotalTicks</th><th>TotalNanoseconds</th></tr></thead><tbody><tr><td><div class=\"dni-plaintext\">0</div></td><td><div class=\"dni-plaintext\">196000000000</div></td><td><div class=\"dni-plaintext\">0</div></td><td><div class=\"dni-plaintext\">3</div></td><td><div class=\"dni-plaintext\">16</div></td><td><div class=\"dni-plaintext\">0</div></td><td><div class=\"dni-plaintext\">0</div></td><td><div class=\"dni-plaintext\">0</div></td><td><div class=\"dni-plaintext\">1960000000</div></td><td><div class=\"dni-plaintext\">0.0022685185185185187</div></td><td><div class=\"dni-plaintext\">0.05444444444444444</div></td><td><div class=\"dni-plaintext\">3.2666666666666666</div></td><td><div class=\"dni-plaintext\">196</div></td><td><div class=\"dni-plaintext\">196000</div></td><td><div class=\"dni-plaintext\">1960000000</div></td><td><div class=\"dni-plaintext\">196000000000</div></td></tr></tbody></table></td><td><table><thead><tr><th>Days</th><th>NanosecondOfDay</th><th>Hours</th><th>Minutes</th><th>Seconds</th><th>Milliseconds</th><th>SubsecondTicks</th><th>SubsecondNanoseconds</th><th>BclCompatibleTicks</th><th>TotalDays</th><th>TotalHours</th><th>TotalMinutes</th><th>TotalSeconds</th><th>TotalMilliseconds</th><th>TotalTicks</th><th>TotalNanoseconds</th></tr></thead><tbody><tr><td><div class=\"dni-plaintext\">0</div></td><td><div class=\"dni-plaintext\">200982643730</div></td><td><div class=\"dni-plaintext\">0</div></td><td><div class=\"dni-plaintext\">3</div></td><td><div class=\"dni-plaintext\">20</div></td><td><div class=\"dni-plaintext\">982</div></td><td><div class=\"dni-plaintext\">9826437</div></td><td><div class=\"dni-plaintext\">982643730</div></td><td><div class=\"dni-plaintext\">2009826437</div></td><td><div class=\"dni-plaintext\">0.002326188006134259</div></td><td><div class=\"dni-plaintext\">0.055828512147222224</div></td><td><div class=\"dni-plaintext\">3.349710728833333</div></td><td><div class=\"dni-plaintext\">200.98264373</div></td><td><div class=\"dni-plaintext\">200982.64373</div></td><td><div class=\"dni-plaintext\">2009826437.3</div></td><td><div class=\"dni-plaintext\">200982643730</div></td></tr></tbody></table></td><td><div class=\"dni-plaintext\">0.00254841277</div></td></tr><tr><td>13</td><td><div class=\"dni-plaintext\">0.01721515702325826</div></td><td><table><thead><tr><th>Days</th><th>NanosecondOfDay</th><th>Hours</th><th>Minutes</th><th>Seconds</th><th>Milliseconds</th><th>SubsecondTicks</th><th>SubsecondNanoseconds</th><th>BclCompatibleTicks</th><th>TotalDays</th><th>TotalHours</th><th>TotalMinutes</th><th>TotalSeconds</th><th>TotalMilliseconds</th><th>TotalTicks</th><th>TotalNanoseconds</th></tr></thead><tbody><tr><td><div class=\"dni-plaintext\">0</div></td><td><div class=\"dni-plaintext\">206000000000</div></td><td><div class=\"dni-plaintext\">0</div></td><td><div class=\"dni-plaintext\">3</div></td><td><div class=\"dni-plaintext\">26</div></td><td><div class=\"dni-plaintext\">0</div></td><td><div class=\"dni-plaintext\">0</div></td><td><div class=\"dni-plaintext\">0</div></td><td><div class=\"dni-plaintext\">2060000000</div></td><td><div class=\"dni-plaintext\">0.002384259259259259</div></td><td><div class=\"dni-plaintext\">0.05722222222222222</div></td><td><div class=\"dni-plaintext\">3.433333333333333</div></td><td><div class=\"dni-plaintext\">206</div></td><td><div class=\"dni-plaintext\">206000</div></td><td><div class=\"dni-plaintext\">2060000000</div></td><td><div class=\"dni-plaintext\">206000000000</div></td></tr></tbody></table></td><td><table><thead><tr><th>Days</th><th>NanosecondOfDay</th><th>Hours</th><th>Minutes</th><th>Seconds</th><th>Milliseconds</th><th>SubsecondTicks</th><th>SubsecondNanoseconds</th><th>BclCompatibleTicks</th><th>TotalDays</th><th>TotalHours</th><th>TotalMinutes</th><th>TotalSeconds</th><th>TotalMilliseconds</th><th>TotalTicks</th><th>TotalNanoseconds</th></tr></thead><tbody><tr><td><div class=\"dni-plaintext\">0</div></td><td><div class=\"dni-plaintext\">212637017782</div></td><td><div class=\"dni-plaintext\">0</div></td><td><div class=\"dni-plaintext\">3</div></td><td><div class=\"dni-plaintext\">32</div></td><td><div class=\"dni-plaintext\">637</div></td><td><div class=\"dni-plaintext\">6370177</div></td><td><div class=\"dni-plaintext\">637017782</div></td><td><div class=\"dni-plaintext\">2126370177</div></td><td><div class=\"dni-plaintext\">0.0024610765946990742</div></td><td><div class=\"dni-plaintext\">0.059065838272777775</div></td><td><div class=\"dni-plaintext\">3.5439502963666665</div></td><td><div class=\"dni-plaintext\">212.637017782</div></td><td><div class=\"dni-plaintext\">212637.017782</div></td><td><div class=\"dni-plaintext\">2126370177.82</div></td><td><div class=\"dni-plaintext\">212637017782</div></td></tr></tbody></table></td><td><div class=\"dni-plaintext\">0.0024040190971555556</div></td></tr><tr><td>14</td><td><div class=\"dni-plaintext\">0.10735381362448695</div></td><td><table><thead><tr><th>Days</th><th>NanosecondOfDay</th><th>Hours</th><th>Minutes</th><th>Seconds</th><th>Milliseconds</th><th>SubsecondTicks</th><th>SubsecondNanoseconds</th><th>BclCompatibleTicks</th><th>TotalDays</th><th>TotalHours</th><th>TotalMinutes</th><th>TotalSeconds</th><th>TotalMilliseconds</th><th>TotalTicks</th><th>TotalNanoseconds</th></tr></thead><tbody><tr><td><div class=\"dni-plaintext\">0</div></td><td><div class=\"dni-plaintext\">234000000000</div></td><td><div class=\"dni-plaintext\">0</div></td><td><div class=\"dni-plaintext\">3</div></td><td><div class=\"dni-plaintext\">54</div></td><td><div class=\"dni-plaintext\">0</div></td><td><div class=\"dni-plaintext\">0</div></td><td><div class=\"dni-plaintext\">0</div></td><td><div class=\"dni-plaintext\">2340000000</div></td><td><div class=\"dni-plaintext\">0.0027083333333333334</div></td><td><div class=\"dni-plaintext\">0.065</div></td><td><div class=\"dni-plaintext\">3.9</div></td><td><div class=\"dni-plaintext\">234</div></td><td><div class=\"dni-plaintext\">234000</div></td><td><div class=\"dni-plaintext\">2340000000</div></td><td><div class=\"dni-plaintext\">234000000000</div></td></tr></tbody></table></td><td><table><thead><tr><th>Days</th><th>NanosecondOfDay</th><th>Hours</th><th>Minutes</th><th>Seconds</th><th>Milliseconds</th><th>SubsecondTicks</th><th>SubsecondNanoseconds</th><th>BclCompatibleTicks</th><th>TotalDays</th><th>TotalHours</th><th>TotalMinutes</th><th>TotalSeconds</th><th>TotalMilliseconds</th><th>TotalTicks</th><th>TotalNanoseconds</th></tr></thead><tbody><tr><td><div class=\"dni-plaintext\">0</div></td><td><div class=\"dni-plaintext\">238237557158</div></td><td><div class=\"dni-plaintext\">0</div></td><td><div class=\"dni-plaintext\">3</div></td><td><div class=\"dni-plaintext\">58</div></td><td><div class=\"dni-plaintext\">237</div></td><td><div class=\"dni-plaintext\">2375571</div></td><td><div class=\"dni-plaintext\">237557158</div></td><td><div class=\"dni-plaintext\">2382375571</div></td><td><div class=\"dni-plaintext\">0.0027573791337731483</div></td><td><div class=\"dni-plaintext\">0.06617709921055556</div></td><td><div class=\"dni-plaintext\">3.970625952633333</div></td><td><div class=\"dni-plaintext\">238.237557158</div></td><td><div class=\"dni-plaintext\">238237.557158</div></td><td><div class=\"dni-plaintext\">2382375571.58</div></td><td><div class=\"dni-plaintext\">238237557158</div></td></tr></tbody></table></td><td><div class=\"dni-plaintext\">0.0029654346916222225</div></td></tr><tr><td>15</td><td><div class=\"dni-plaintext\">0.1822035072391442</div></td><td><table><thead><tr><th>Days</th><th>NanosecondOfDay</th><th>Hours</th><th>Minutes</th><th>Seconds</th><th>Milliseconds</th><th>SubsecondTicks</th><th>SubsecondNanoseconds</th><th>BclCompatibleTicks</th><th>TotalDays</th><th>TotalHours</th><th>TotalMinutes</th><th>TotalSeconds</th><th>TotalMilliseconds</th><th>TotalTicks</th><th>TotalNanoseconds</th></tr></thead><tbody><tr><td><div class=\"dni-plaintext\">0</div></td><td><div class=\"dni-plaintext\">174000000000</div></td><td><div class=\"dni-plaintext\">0</div></td><td><div class=\"dni-plaintext\">2</div></td><td><div class=\"dni-plaintext\">54</div></td><td><div class=\"dni-plaintext\">0</div></td><td><div class=\"dni-plaintext\">0</div></td><td><div class=\"dni-plaintext\">0</div></td><td><div class=\"dni-plaintext\">1740000000</div></td><td><div class=\"dni-plaintext\">0.002013888888888889</div></td><td><div class=\"dni-plaintext\">0.04833333333333333</div></td><td><div class=\"dni-plaintext\">2.9</div></td><td><div class=\"dni-plaintext\">174</div></td><td><div class=\"dni-plaintext\">174000</div></td><td><div class=\"dni-plaintext\">1740000000</div></td><td><div class=\"dni-plaintext\">174000000000</div></td></tr></tbody></table></td><td><table><thead><tr><th>Days</th><th>NanosecondOfDay</th><th>Hours</th><th>Minutes</th><th>Seconds</th><th>Milliseconds</th><th>SubsecondTicks</th><th>SubsecondNanoseconds</th><th>BclCompatibleTicks</th><th>TotalDays</th><th>TotalHours</th><th>TotalMinutes</th><th>TotalSeconds</th><th>TotalMilliseconds</th><th>TotalTicks</th><th>TotalNanoseconds</th></tr></thead><tbody><tr><td><div class=\"dni-plaintext\">0</div></td><td><div class=\"dni-plaintext\">177932443686</div></td><td><div class=\"dni-plaintext\">0</div></td><td><div class=\"dni-plaintext\">2</div></td><td><div class=\"dni-plaintext\">57</div></td><td><div class=\"dni-plaintext\">932</div></td><td><div class=\"dni-plaintext\">9324436</div></td><td><div class=\"dni-plaintext\">932443686</div></td><td><div class=\"dni-plaintext\">1779324436</div></td><td><div class=\"dni-plaintext\">0.002059403283402778</div></td><td><div class=\"dni-plaintext\">0.049425678801666664</div></td><td><div class=\"dni-plaintext\">2.9655407281</div></td><td><div class=\"dni-plaintext\">177.932443686</div></td><td><div class=\"dni-plaintext\">177932.443686</div></td><td><div class=\"dni-plaintext\">1779324436.86</div></td><td><div class=\"dni-plaintext\">177932443686</div></td></tr></tbody></table></td><td><div class=\"dni-plaintext\">0.0024175050511555554</div></td></tr><tr><td>16</td><td><div class=\"dni-plaintext\">0.2026170570022794</div></td><td><table><thead><tr><th>Days</th><th>NanosecondOfDay</th><th>Hours</th><th>Minutes</th><th>Seconds</th><th>Milliseconds</th><th>SubsecondTicks</th><th>SubsecondNanoseconds</th><th>BclCompatibleTicks</th><th>TotalDays</th><th>TotalHours</th><th>TotalMinutes</th><th>TotalSeconds</th><th>TotalMilliseconds</th><th>TotalTicks</th><th>TotalNanoseconds</th></tr></thead><tbody><tr><td><div class=\"dni-plaintext\">0</div></td><td><div class=\"dni-plaintext\">513000000000</div></td><td><div class=\"dni-plaintext\">0</div></td><td><div class=\"dni-plaintext\">8</div></td><td><div class=\"dni-plaintext\">33</div></td><td><div class=\"dni-plaintext\">0</div></td><td><div class=\"dni-plaintext\">0</div></td><td><div class=\"dni-plaintext\">0</div></td><td><div class=\"dni-plaintext\">5130000000</div></td><td><div class=\"dni-plaintext\">0.0059375</div></td><td><div class=\"dni-plaintext\">0.1425</div></td><td><div class=\"dni-plaintext\">8.55</div></td><td><div class=\"dni-plaintext\">513</div></td><td><div class=\"dni-plaintext\">513000</div></td><td><div class=\"dni-plaintext\">5130000000</div></td><td><div class=\"dni-plaintext\">513000000000</div></td></tr></tbody></table></td><td><table><thead><tr><th>Days</th><th>NanosecondOfDay</th><th>Hours</th><th>Minutes</th><th>Seconds</th><th>Milliseconds</th><th>SubsecondTicks</th><th>SubsecondNanoseconds</th><th>BclCompatibleTicks</th><th>TotalDays</th><th>TotalHours</th><th>TotalMinutes</th><th>TotalSeconds</th><th>TotalMilliseconds</th><th>TotalTicks</th><th>TotalNanoseconds</th></tr></thead><tbody><tr><td><div class=\"dni-plaintext\">0</div></td><td><div class=\"dni-plaintext\">515597769245</div></td><td><div class=\"dni-plaintext\">0</div></td><td><div class=\"dni-plaintext\">8</div></td><td><div class=\"dni-plaintext\">35</div></td><td><div class=\"dni-plaintext\">597</div></td><td><div class=\"dni-plaintext\">5977692</div></td><td><div class=\"dni-plaintext\">597769245</div></td><td><div class=\"dni-plaintext\">5155977692</div></td><td><div class=\"dni-plaintext\">0.005967566773668982</div></td><td><div class=\"dni-plaintext\">0.14322160256805555</div></td><td><div class=\"dni-plaintext\">8.593296154083333</div></td><td><div class=\"dni-plaintext\">515.597769245</div></td><td><div class=\"dni-plaintext\">515597.769245</div></td><td><div class=\"dni-plaintext\">5155977692.45</div></td><td><div class=\"dni-plaintext\">515597769245</div></td></tr></tbody></table></td><td><div class=\"dni-plaintext\">0.007184583208144445</div></td></tr><tr><td>17</td><td><div class=\"dni-plaintext\">0.03063453539817172</div></td><td><table><thead><tr><th>Days</th><th>NanosecondOfDay</th><th>Hours</th><th>Minutes</th><th>Seconds</th><th>Milliseconds</th><th>SubsecondTicks</th><th>SubsecondNanoseconds</th><th>BclCompatibleTicks</th><th>TotalDays</th><th>TotalHours</th><th>TotalMinutes</th><th>TotalSeconds</th><th>TotalMilliseconds</th><th>TotalTicks</th><th>TotalNanoseconds</th></tr></thead><tbody><tr><td><div class=\"dni-plaintext\">0</div></td><td><div class=\"dni-plaintext\">633000000000</div></td><td><div class=\"dni-plaintext\">0</div></td><td><div class=\"dni-plaintext\">10</div></td><td><div class=\"dni-plaintext\">33</div></td><td><div class=\"dni-plaintext\">0</div></td><td><div class=\"dni-plaintext\">0</div></td><td><div class=\"dni-plaintext\">0</div></td><td><div class=\"dni-plaintext\">6330000000</div></td><td><div class=\"dni-plaintext\">0.007326388888888889</div></td><td><div class=\"dni-plaintext\">0.17583333333333334</div></td><td><div class=\"dni-plaintext\">10.55</div></td><td><div class=\"dni-plaintext\">633</div></td><td><div class=\"dni-plaintext\">633000</div></td><td><div class=\"dni-plaintext\">6330000000</div></td><td><div class=\"dni-plaintext\">633000000000</div></td></tr></tbody></table></td><td><table><thead><tr><th>Days</th><th>NanosecondOfDay</th><th>Hours</th><th>Minutes</th><th>Seconds</th><th>Milliseconds</th><th>SubsecondTicks</th><th>SubsecondNanoseconds</th><th>BclCompatibleTicks</th><th>TotalDays</th><th>TotalHours</th><th>TotalMinutes</th><th>TotalSeconds</th><th>TotalMilliseconds</th><th>TotalTicks</th><th>TotalNanoseconds</th></tr></thead><tbody><tr><td><div class=\"dni-plaintext\">0</div></td><td><div class=\"dni-plaintext\">641358530725</div></td><td><div class=\"dni-plaintext\">0</div></td><td><div class=\"dni-plaintext\">10</div></td><td><div class=\"dni-plaintext\">41</div></td><td><div class=\"dni-plaintext\">358</div></td><td><div class=\"dni-plaintext\">3585307</div></td><td><div class=\"dni-plaintext\">358530725</div></td><td><div class=\"dni-plaintext\">6413585307</div></td><td><div class=\"dni-plaintext\">0.007423131142650463</div></td><td><div class=\"dni-plaintext\">0.1781551474236111</div></td><td><div class=\"dni-plaintext\">10.689308845416667</div></td><td><div class=\"dni-plaintext\">641.358530725</div></td><td><div class=\"dni-plaintext\">641358.530725</div></td><td><div class=\"dni-plaintext\">6413585307.25</div></td><td><div class=\"dni-plaintext\">641358530725</div></td></tr></tbody></table></td><td><div class=\"dni-plaintext\">0.007351413019311112</div></td></tr><tr><td>18</td><td><div class=\"dni-plaintext\">0.10490522865018902</div></td><td><table><thead><tr><th>Days</th><th>NanosecondOfDay</th><th>Hours</th><th>Minutes</th><th>Seconds</th><th>Milliseconds</th><th>SubsecondTicks</th><th>SubsecondNanoseconds</th><th>BclCompatibleTicks</th><th>TotalDays</th><th>TotalHours</th><th>TotalMinutes</th><th>TotalSeconds</th><th>TotalMilliseconds</th><th>TotalTicks</th><th>TotalNanoseconds</th></tr></thead><tbody><tr><td><div class=\"dni-plaintext\">0</div></td><td><div class=\"dni-plaintext\">249000000000</div></td><td><div class=\"dni-plaintext\">0</div></td><td><div class=\"dni-plaintext\">4</div></td><td><div class=\"dni-plaintext\">9</div></td><td><div class=\"dni-plaintext\">0</div></td><td><div class=\"dni-plaintext\">0</div></td><td><div class=\"dni-plaintext\">0</div></td><td><div class=\"dni-plaintext\">2490000000</div></td><td><div class=\"dni-plaintext\">0.0028819444444444444</div></td><td><div class=\"dni-plaintext\">0.06916666666666667</div></td><td><div class=\"dni-plaintext\">4.15</div></td><td><div class=\"dni-plaintext\">249</div></td><td><div class=\"dni-plaintext\">249000</div></td><td><div class=\"dni-plaintext\">2490000000</div></td><td><div class=\"dni-plaintext\">249000000000</div></td></tr></tbody></table></td><td><table><thead><tr><th>Days</th><th>NanosecondOfDay</th><th>Hours</th><th>Minutes</th><th>Seconds</th><th>Milliseconds</th><th>SubsecondTicks</th><th>SubsecondNanoseconds</th><th>BclCompatibleTicks</th><th>TotalDays</th><th>TotalHours</th><th>TotalMinutes</th><th>TotalSeconds</th><th>TotalMilliseconds</th><th>TotalTicks</th><th>TotalNanoseconds</th></tr></thead><tbody><tr><td><div class=\"dni-plaintext\">0</div></td><td><div class=\"dni-plaintext\">251128054373</div></td><td><div class=\"dni-plaintext\">0</div></td><td><div class=\"dni-plaintext\">4</div></td><td><div class=\"dni-plaintext\">11</div></td><td><div class=\"dni-plaintext\">128</div></td><td><div class=\"dni-plaintext\">1280543</div></td><td><div class=\"dni-plaintext\">128054373</div></td><td><div class=\"dni-plaintext\">2511280543</div></td><td><div class=\"dni-plaintext\">0.0029065747033912037</div></td><td><div class=\"dni-plaintext\">0.06975779288138889</div></td><td><div class=\"dni-plaintext\">4.185467572883334</div></td><td><div class=\"dni-plaintext\">251.128054373</div></td><td><div class=\"dni-plaintext\">251128.054373</div></td><td><div class=\"dni-plaintext\">2511280543.73</div></td><td><div class=\"dni-plaintext\">251128054373</div></td></tr></tbody></table></td><td><div class=\"dni-plaintext\">0.003117336626877778</div></td></tr><tr><td>19</td><td><div class=\"dni-plaintext\">0.0761767634755465</div></td><td><table><thead><tr><th>Days</th><th>NanosecondOfDay</th><th>Hours</th><th>Minutes</th><th>Seconds</th><th>Milliseconds</th><th>SubsecondTicks</th><th>SubsecondNanoseconds</th><th>BclCompatibleTicks</th><th>TotalDays</th><th>TotalHours</th><th>TotalMinutes</th><th>TotalSeconds</th><th>TotalMilliseconds</th><th>TotalTicks</th><th>TotalNanoseconds</th></tr></thead><tbody><tr><td><div class=\"dni-plaintext\">0</div></td><td><div class=\"dni-plaintext\">256000000000</div></td><td><div class=\"dni-plaintext\">0</div></td><td><div class=\"dni-plaintext\">4</div></td><td><div class=\"dni-plaintext\">16</div></td><td><div class=\"dni-plaintext\">0</div></td><td><div class=\"dni-plaintext\">0</div></td><td><div class=\"dni-plaintext\">0</div></td><td><div class=\"dni-plaintext\">2560000000</div></td><td><div class=\"dni-plaintext\">0.002962962962962963</div></td><td><div class=\"dni-plaintext\">0.07111111111111111</div></td><td><div class=\"dni-plaintext\">4.266666666666667</div></td><td><div class=\"dni-plaintext\">256</div></td><td><div class=\"dni-plaintext\">256000</div></td><td><div class=\"dni-plaintext\">2560000000</div></td><td><div class=\"dni-plaintext\">256000000000</div></td></tr></tbody></table></td><td><table><thead><tr><th>Days</th><th>NanosecondOfDay</th><th>Hours</th><th>Minutes</th><th>Seconds</th><th>Milliseconds</th><th>SubsecondTicks</th><th>SubsecondNanoseconds</th><th>BclCompatibleTicks</th><th>TotalDays</th><th>TotalHours</th><th>TotalMinutes</th><th>TotalSeconds</th><th>TotalMilliseconds</th><th>TotalTicks</th><th>TotalNanoseconds</th></tr></thead><tbody><tr><td><div class=\"dni-plaintext\">0</div></td><td><div class=\"dni-plaintext\">261254706978</div></td><td><div class=\"dni-plaintext\">0</div></td><td><div class=\"dni-plaintext\">4</div></td><td><div class=\"dni-plaintext\">21</div></td><td><div class=\"dni-plaintext\">254</div></td><td><div class=\"dni-plaintext\">2547069</div></td><td><div class=\"dni-plaintext\">254706978</div></td><td><div class=\"dni-plaintext\">2612547069</div></td><td><div class=\"dni-plaintext\">0.003023781330763889</div></td><td><div class=\"dni-plaintext\">0.07257075193833333</div></td><td><div class=\"dni-plaintext\">4.3542451163</div></td><td><div class=\"dni-plaintext\">261.254706978</div></td><td><div class=\"dni-plaintext\">261254.706978</div></td><td><div class=\"dni-plaintext\">2612547069.78</div></td><td><div class=\"dni-plaintext\">261254706978</div></td></tr></tbody></table></td><td><div class=\"dni-plaintext\">0.003142192102088889</div></td></tr><tr><td colspan=\"5\"><i>... (more)</i></td></tr></tbody></table>"
      ]
     },
     "metadata": {},
     "output_type": "display_data"
    }
   ],
   "source": [
    "results |> SimulatorContext.getQoSMeassuresList"
   ]
  },
  {
   "cell_type": "code",
   "execution_count": null,
   "metadata": {
    "dotnet_interactive": {
     "language": "fsharp"
    }
   },
   "outputs": [],
   "source": []
  }
 ],
 "metadata": {
  "kernelspec": {
   "display_name": ".NET (F#)",
   "language": "F#",
   "name": ".net-fsharp"
  },
  "language_info": {
   "name": "F#"
  }
 },
 "nbformat": 4,
 "nbformat_minor": 2
}
